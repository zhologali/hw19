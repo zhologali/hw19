{
 "cells": [
  {
   "cell_type": "markdown",
   "metadata": {
    "colab_type": "text",
    "id": "view-in-github"
   },
   "source": [
    "<a href=\"https://colab.research.google.com/github/yustinaivanova/netology_statistics/blob/master/dz_2.ipynb\" target=\"_parent\"><img src=\"https://colab.research.google.com/assets/colab-badge.svg\" alt=\"Open In Colab\"/></a>"
   ]
  },
  {
   "cell_type": "markdown",
   "metadata": {},
   "source": [
    "# Домашняя работа №4"
   ]
  },
  {
   "cell_type": "markdown",
   "metadata": {
    "colab_type": "text",
    "id": "9wqpiQR2AbtX"
   },
   "source": [
    "# Виды распределений"
   ]
  },
  {
   "cell_type": "markdown",
   "metadata": {
    "colab_type": "text",
    "id": "V3N8qycM-xP9"
   },
   "source": [
    "Загрузить таблицу и построить график распределений. Найти нормальное распределение."
   ]
  },
  {
   "cell_type": "code",
   "execution_count": 59,
   "metadata": {
    "colab": {},
    "colab_type": "code",
    "id": "Zo_j9HCKCPgi"
   },
   "outputs": [],
   "source": [
    "import numpy as np\n",
    "from scipy.stats import t\n",
    "from scipy.stats import norm\n",
    "import matplotlib.pyplot as plt\n",
    "from scipy import stats\n",
    "import pandas as pd\n",
    "import io\n",
    "import requests\n",
    "import seaborn as sns\n",
    "from sklearn.metrics import mean_squared_error, mean_absolute_error\n",
    "\n",
    "%matplotlib inline"
   ]
  },
  {
   "cell_type": "markdown",
   "metadata": {
    "colab_type": "text",
    "id": "LrhPyaIACZsb"
   },
   "source": [
    "Таблица цен на дома в Бостоне"
   ]
  },
  {
   "cell_type": "markdown",
   "metadata": {
    "colab_type": "text",
    "id": "XyNNmtvIDDy3"
   },
   "source": [
    "Основные значения:\n",
    "\n",
    "* CRIM: This is the per capita crime rate by town\n",
    "* ZN: This is the proportion of residential land zoned for lots larger than 25,000 sq.ft.\n",
    "* INDUS: This is the proportion of non-retail business acres per town.\n",
    "* CHAS: This is the Charles River dummy variable (this is equal to 1 if tract bounds river; 0 otherwise)\n",
    "* NOX: This is the nitric oxides concentration (parts per 10 million)\n",
    "* RM: This is the average number of rooms per dwelling\n",
    "* AGE: This is the proportion of owner-occupied units built prior to 1940\n",
    "* DIS: This is the weighted distances to five Boston employment centers\n",
    "* RAD: This is the index of accessibility to radial highways\n",
    "* TAX: This is the full-value property-tax rate per 10,000 dollars\n",
    "* PTRATIO: This is the pupil-teacher ratio by town\n",
    "* B: This is calculated as 1000(Bk — 0.63)², where Bk is the proportion of people of African American descent by town\n",
    "* LSTAT: This is the percentage lower status of the population\n",
    "* MEDV: This is the median value of owner-occupied homes in 1000 dollars"
   ]
  },
  {
   "cell_type": "code",
   "execution_count": 2,
   "metadata": {
    "colab": {
     "base_uri": "https://localhost:8080/",
     "height": 204
    },
    "colab_type": "code",
    "id": "Ona1gs72CZOq",
    "outputId": "455f9f96-3f49-4eb7-c928-fc732141d834"
   },
   "outputs": [
    {
     "data": {
      "text/html": [
       "<div>\n",
       "<style scoped>\n",
       "    .dataframe tbody tr th:only-of-type {\n",
       "        vertical-align: middle;\n",
       "    }\n",
       "\n",
       "    .dataframe tbody tr th {\n",
       "        vertical-align: top;\n",
       "    }\n",
       "\n",
       "    .dataframe thead th {\n",
       "        text-align: right;\n",
       "    }\n",
       "</style>\n",
       "<table border=\"1\" class=\"dataframe\">\n",
       "  <thead>\n",
       "    <tr style=\"text-align: right;\">\n",
       "      <th></th>\n",
       "      <th>CRIM</th>\n",
       "      <th>ZN</th>\n",
       "      <th>INDUS</th>\n",
       "      <th>CHAS</th>\n",
       "      <th>NOX</th>\n",
       "      <th>RM</th>\n",
       "      <th>AGE</th>\n",
       "      <th>DIS</th>\n",
       "      <th>RAD</th>\n",
       "      <th>TAX</th>\n",
       "      <th>PTRATIO</th>\n",
       "      <th>B</th>\n",
       "      <th>LSTAT</th>\n",
       "      <th>MEDV</th>\n",
       "    </tr>\n",
       "  </thead>\n",
       "  <tbody>\n",
       "    <tr>\n",
       "      <th>0</th>\n",
       "      <td>0.00632</td>\n",
       "      <td>18.0</td>\n",
       "      <td>2.31</td>\n",
       "      <td>0</td>\n",
       "      <td>0.538</td>\n",
       "      <td>6.575</td>\n",
       "      <td>65.2</td>\n",
       "      <td>4.0900</td>\n",
       "      <td>1</td>\n",
       "      <td>296.0</td>\n",
       "      <td>15.3</td>\n",
       "      <td>396.90</td>\n",
       "      <td>4.98</td>\n",
       "      <td>24.0</td>\n",
       "    </tr>\n",
       "    <tr>\n",
       "      <th>1</th>\n",
       "      <td>0.02731</td>\n",
       "      <td>0.0</td>\n",
       "      <td>7.07</td>\n",
       "      <td>0</td>\n",
       "      <td>0.469</td>\n",
       "      <td>6.421</td>\n",
       "      <td>78.9</td>\n",
       "      <td>4.9671</td>\n",
       "      <td>2</td>\n",
       "      <td>242.0</td>\n",
       "      <td>17.8</td>\n",
       "      <td>396.90</td>\n",
       "      <td>9.14</td>\n",
       "      <td>21.6</td>\n",
       "    </tr>\n",
       "    <tr>\n",
       "      <th>2</th>\n",
       "      <td>0.02729</td>\n",
       "      <td>0.0</td>\n",
       "      <td>7.07</td>\n",
       "      <td>0</td>\n",
       "      <td>0.469</td>\n",
       "      <td>7.185</td>\n",
       "      <td>61.1</td>\n",
       "      <td>4.9671</td>\n",
       "      <td>2</td>\n",
       "      <td>242.0</td>\n",
       "      <td>17.8</td>\n",
       "      <td>392.83</td>\n",
       "      <td>4.03</td>\n",
       "      <td>34.7</td>\n",
       "    </tr>\n",
       "    <tr>\n",
       "      <th>3</th>\n",
       "      <td>0.03237</td>\n",
       "      <td>0.0</td>\n",
       "      <td>2.18</td>\n",
       "      <td>0</td>\n",
       "      <td>0.458</td>\n",
       "      <td>6.998</td>\n",
       "      <td>45.8</td>\n",
       "      <td>6.0622</td>\n",
       "      <td>3</td>\n",
       "      <td>222.0</td>\n",
       "      <td>18.7</td>\n",
       "      <td>394.63</td>\n",
       "      <td>2.94</td>\n",
       "      <td>33.4</td>\n",
       "    </tr>\n",
       "    <tr>\n",
       "      <th>4</th>\n",
       "      <td>0.06905</td>\n",
       "      <td>0.0</td>\n",
       "      <td>2.18</td>\n",
       "      <td>0</td>\n",
       "      <td>0.458</td>\n",
       "      <td>7.147</td>\n",
       "      <td>54.2</td>\n",
       "      <td>6.0622</td>\n",
       "      <td>3</td>\n",
       "      <td>222.0</td>\n",
       "      <td>18.7</td>\n",
       "      <td>396.90</td>\n",
       "      <td>5.33</td>\n",
       "      <td>36.2</td>\n",
       "    </tr>\n",
       "  </tbody>\n",
       "</table>\n",
       "</div>"
      ],
      "text/plain": [
       "      CRIM    ZN  INDUS  CHAS    NOX     RM   AGE     DIS  RAD    TAX  \\\n",
       "0  0.00632  18.0   2.31     0  0.538  6.575  65.2  4.0900    1  296.0   \n",
       "1  0.02731   0.0   7.07     0  0.469  6.421  78.9  4.9671    2  242.0   \n",
       "2  0.02729   0.0   7.07     0  0.469  7.185  61.1  4.9671    2  242.0   \n",
       "3  0.03237   0.0   2.18     0  0.458  6.998  45.8  6.0622    3  222.0   \n",
       "4  0.06905   0.0   2.18     0  0.458  7.147  54.2  6.0622    3  222.0   \n",
       "\n",
       "   PTRATIO       B  LSTAT  MEDV  \n",
       "0     15.3  396.90   4.98  24.0  \n",
       "1     17.8  396.90   9.14  21.6  \n",
       "2     17.8  392.83   4.03  34.7  \n",
       "3     18.7  394.63   2.94  33.4  \n",
       "4     18.7  396.90   5.33  36.2  "
      ]
     },
     "execution_count": 2,
     "metadata": {},
     "output_type": "execute_result"
    }
   ],
   "source": [
    "import ssl\n",
    "# следующая строчка подключает сертификат для защищенного соединения\n",
    "ssl._create_default_https_context = ssl._create_unverified_context\n",
    "url='http://yustiks.ru/dataset/housing.csv'\n",
    "names = ['CRIM', 'ZN', 'INDUS', 'CHAS', 'NOX', 'RM', 'AGE', 'DIS', 'RAD', 'TAX', 'PTRATIO', 'B', 'LSTAT', 'MEDV']\n",
    "data=pd.read_csv(url,  delim_whitespace=True, names=names)\n",
    "data.head()"
   ]
  },
  {
   "cell_type": "markdown",
   "metadata": {
    "colab_type": "text",
    "id": "KwpYBJZiE1EO"
   },
   "source": [
    "Нарисовать частотные графики для всех значений. Можете ли вы найти следующие распределения в данных графиках?\n",
    "\n",
    "\n",
    "1.   Нормальное\n",
    "2.   Равномерное\n",
    "3.   Биноминальное\n",
    "4.   Бернулли\n",
    "5.   Геометрическое\n",
    "6.   Логнормальное\n",
    "\n"
   ]
  },
  {
   "cell_type": "code",
   "execution_count": 24,
   "metadata": {},
   "outputs": [
    {
     "data": {
      "image/png": "[encoded data removed]",
      "text/plain": [
       "<Figure size 432x288 with 1 Axes>"
      ]
     },
     "metadata": {
      "needs_background": "light"
     },
     "output_type": "display_data"
    }
   ],
   "source": [
    "plt.hist(data.CRIM, 50)\n",
    "plt.xlabel('data.CRIM')\n",
    "plt.title('Похоже на геометрическое распределение')\n",
    "plt.show()"
   ]
  },
  {
   "cell_type": "code",
   "execution_count": 25,
   "metadata": {},
   "outputs": [
    {
     "data": {
      "image/png": "[encoded data removed]",
      "text/plain": [
       "<Figure size 432x288 with 1 Axes>"
      ]
     },
     "metadata": {
      "needs_background": "light"
     },
     "output_type": "display_data"
    }
   ],
   "source": [
    "plt.hist(data.ZN, 50)\n",
    "plt.xlabel('data.ZN')\n",
    "plt.title('Не похоже ни на одно известное распределение')\n",
    "plt.show()"
   ]
  },
  {
   "cell_type": "code",
   "execution_count": 27,
   "metadata": {},
   "outputs": [
    {
     "data": {
      "image/png": "[encoded data removed]",
      "text/plain": [
       "<Figure size 432x288 with 1 Axes>"
      ]
     },
     "metadata": {
      "needs_background": "light"
     },
     "output_type": "display_data"
    }
   ],
   "source": [
    "plt.hist(data.INDUS, 50)\n",
    "plt.xlabel('data.INDUS')\n",
    "plt.title('Не похоже ни на одно известное распределение')\n",
    "plt.show()"
   ]
  },
  {
   "cell_type": "code",
   "execution_count": 26,
   "metadata": {},
   "outputs": [
    {
     "data": {
      "image/png": "[encoded data removed]",
      "text/plain": [
       "<Figure size 432x288 with 1 Axes>"
      ]
     },
     "metadata": {
      "needs_background": "light"
     },
     "output_type": "display_data"
    }
   ],
   "source": [
    "plt.hist(data.CHAS, 50)\n",
    "plt.xlabel('data.CHAS')\n",
    "plt.ylabel('Похоже на рапределение Бернулли')\n",
    "plt.show()"
   ]
  },
  {
   "cell_type": "code",
   "execution_count": 28,
   "metadata": {},
   "outputs": [
    {
     "data": {
      "image/png": "[encoded data removed]",
      "text/plain": [
       "<Figure size 432x288 with 1 Axes>"
      ]
     },
     "metadata": {
      "needs_background": "light"
     },
     "output_type": "display_data"
    }
   ],
   "source": [
    "plt.hist(data.NOX, 50)\n",
    "plt.xlabel('data.NOX')\n",
    "plt.title('Не похоже ни на одно известное распределение')\n",
    "plt.show()"
   ]
  },
  {
   "cell_type": "code",
   "execution_count": 29,
   "metadata": {},
   "outputs": [
    {
     "data": {
      "image/png": "[encoded data removed]",
      "text/plain": [
       "<Figure size 432x288 with 1 Axes>"
      ]
     },
     "metadata": {
      "needs_background": "light"
     },
     "output_type": "display_data"
    }
   ],
   "source": [
    "plt.hist(data.RM, 50)\n",
    "plt.xlabel('data.RM')\n",
    "plt.title('Немного напоминает нормальное распределение')\n",
    "plt.show()"
   ]
  },
  {
   "cell_type": "code",
   "execution_count": 30,
   "metadata": {},
   "outputs": [
    {
     "data": {
      "image/png": "[encoded data removed]",
      "text/plain": [
       "<Figure size 432x288 with 1 Axes>"
      ]
     },
     "metadata": {
      "needs_background": "light"
     },
     "output_type": "display_data"
    }
   ],
   "source": [
    "plt.hist(data.AGE, 50)\n",
    "plt.xlabel('data.AGE')\n",
    "plt.title('Не похоже ни на одно известное распределение')\n",
    "plt.show()"
   ]
  },
  {
   "cell_type": "code",
   "execution_count": 32,
   "metadata": {},
   "outputs": [
    {
     "data": {
      "image/png": "[encoded data removed]",
      "text/plain": [
       "<Figure size 432x288 with 1 Axes>"
      ]
     },
     "metadata": {
      "needs_background": "light"
     },
     "output_type": "display_data"
    }
   ],
   "source": [
    "plt.hist(data.DIS, 50)\n",
    "plt.xlabel('data.DIS')\n",
    "plt.title('Похоже на логнормальное распределение')\n",
    "plt.show()"
   ]
  },
  {
   "cell_type": "code",
   "execution_count": 33,
   "metadata": {},
   "outputs": [
    {
     "data": {
      "image/png": "[encoded data removed]",
      "text/plain": [
       "<Figure size 432x288 with 1 Axes>"
      ]
     },
     "metadata": {
      "needs_background": "light"
     },
     "output_type": "display_data"
    }
   ],
   "source": [
    "plt.hist(data.RAD, 50)\n",
    "plt.xlabel('data.RAD')\n",
    "plt.title('Не похоже ни на одно известное распределение')\n",
    "plt.show()"
   ]
  },
  {
   "cell_type": "code",
   "execution_count": 34,
   "metadata": {},
   "outputs": [
    {
     "data": {
      "image/png": "[encoded data removed]",
      "text/plain": [
       "<Figure size 432x288 with 1 Axes>"
      ]
     },
     "metadata": {
      "needs_background": "light"
     },
     "output_type": "display_data"
    }
   ],
   "source": [
    "plt.hist(data.TAX, 50)\n",
    "plt.xlabel('data.TAX')\n",
    "plt.title('Не похоже ни на одно известное распределение')\n",
    "plt.show()"
   ]
  },
  {
   "cell_type": "code",
   "execution_count": 35,
   "metadata": {},
   "outputs": [
    {
     "data": {
      "image/png": "[encoded data removed]",
      "text/plain": [
       "<Figure size 432x288 with 1 Axes>"
      ]
     },
     "metadata": {
      "needs_background": "light"
     },
     "output_type": "display_data"
    }
   ],
   "source": [
    "plt.hist(data.PTRATIO, 50)\n",
    "plt.xlabel('data.TAX')\n",
    "plt.title('Не похоже ни на одно известное распределение')\n",
    "plt.show()"
   ]
  },
  {
   "cell_type": "code",
   "execution_count": 36,
   "metadata": {},
   "outputs": [
    {
     "data": {
      "image/png": "[encoded data removed]",
      "text/plain": [
       "<Figure size 432x288 with 1 Axes>"
      ]
     },
     "metadata": {
      "needs_background": "light"
     },
     "output_type": "display_data"
    }
   ],
   "source": [
    "plt.hist(data.B, 50)\n",
    "plt.xlabel('data.B')\n",
    "plt.title('Не похоже ни на одно известное распределение')\n",
    "plt.show()"
   ]
  },
  {
   "cell_type": "code",
   "execution_count": 37,
   "metadata": {},
   "outputs": [
    {
     "data": {
      "image/png": "[encoded data removed]",
      "text/plain": [
       "<Figure size 432x288 with 1 Axes>"
      ]
     },
     "metadata": {
      "needs_background": "light"
     },
     "output_type": "display_data"
    }
   ],
   "source": [
    "plt.hist(data.LSTAT, 50)\n",
    "plt.xlabel('data.LSTAT')\n",
    "plt.title('Не похоже ни на одно известное распределение')\n",
    "plt.show()"
   ]
  },
  {
   "cell_type": "code",
   "execution_count": 38,
   "metadata": {},
   "outputs": [
    {
     "data": {
      "image/png": "[encoded data removed]",
      "text/plain": [
       "<Figure size 432x288 with 1 Axes>"
      ]
     },
     "metadata": {
      "needs_background": "light"
     },
     "output_type": "display_data"
    }
   ],
   "source": [
    "plt.hist(data.MEDV, 50)\n",
    "plt.xlabel('data.MEDV')\n",
    "plt.title('Не похоже ни на одно известное распределение')\n",
    "plt.show()"
   ]
  },
  {
   "cell_type": "markdown",
   "metadata": {},
   "source": [
    "Построить матрицу корреляций для данной таблицы и выбрать максимально коррелирующий атрибут (несколько атрибутов) с ценой на дома (MEDV атрибут). **Ответ:** Максимальная корреляция с ценой дома у признаков RM и LSTAT. Причем в первом случае положительная корреляция,  а во втором отрицательная, т.е. например чем меньше LATAT ткм больше цена дома."
   ]
  },
  {
   "cell_type": "code",
   "execution_count": 39,
   "metadata": {},
   "outputs": [
    {
     "data": {
      "text/html": [
       "<div>\n",
       "<style scoped>\n",
       "    .dataframe tbody tr th:only-of-type {\n",
       "        vertical-align: middle;\n",
       "    }\n",
       "\n",
       "    .dataframe tbody tr th {\n",
       "        vertical-align: top;\n",
       "    }\n",
       "\n",
       "    .dataframe thead th {\n",
       "        text-align: right;\n",
       "    }\n",
       "</style>\n",
       "<table border=\"1\" class=\"dataframe\">\n",
       "  <thead>\n",
       "    <tr style=\"text-align: right;\">\n",
       "      <th></th>\n",
       "      <th>CRIM</th>\n",
       "      <th>ZN</th>\n",
       "      <th>INDUS</th>\n",
       "      <th>CHAS</th>\n",
       "      <th>NOX</th>\n",
       "      <th>RM</th>\n",
       "      <th>AGE</th>\n",
       "      <th>DIS</th>\n",
       "      <th>RAD</th>\n",
       "      <th>TAX</th>\n",
       "      <th>PTRATIO</th>\n",
       "      <th>B</th>\n",
       "      <th>LSTAT</th>\n",
       "      <th>MEDV</th>\n",
       "    </tr>\n",
       "  </thead>\n",
       "  <tbody>\n",
       "    <tr>\n",
       "      <th>CRIM</th>\n",
       "      <td>1.00</td>\n",
       "      <td>-0.20</td>\n",
       "      <td>0.41</td>\n",
       "      <td>-0.06</td>\n",
       "      <td>0.42</td>\n",
       "      <td>-0.22</td>\n",
       "      <td>0.35</td>\n",
       "      <td>-0.38</td>\n",
       "      <td>0.63</td>\n",
       "      <td>0.58</td>\n",
       "      <td>0.29</td>\n",
       "      <td>-0.39</td>\n",
       "      <td>0.46</td>\n",
       "      <td>-0.39</td>\n",
       "    </tr>\n",
       "    <tr>\n",
       "      <th>ZN</th>\n",
       "      <td>-0.20</td>\n",
       "      <td>1.00</td>\n",
       "      <td>-0.53</td>\n",
       "      <td>-0.04</td>\n",
       "      <td>-0.52</td>\n",
       "      <td>0.31</td>\n",
       "      <td>-0.57</td>\n",
       "      <td>0.66</td>\n",
       "      <td>-0.31</td>\n",
       "      <td>-0.31</td>\n",
       "      <td>-0.39</td>\n",
       "      <td>0.18</td>\n",
       "      <td>-0.41</td>\n",
       "      <td>0.36</td>\n",
       "    </tr>\n",
       "    <tr>\n",
       "      <th>INDUS</th>\n",
       "      <td>0.41</td>\n",
       "      <td>-0.53</td>\n",
       "      <td>1.00</td>\n",
       "      <td>0.06</td>\n",
       "      <td>0.76</td>\n",
       "      <td>-0.39</td>\n",
       "      <td>0.64</td>\n",
       "      <td>-0.71</td>\n",
       "      <td>0.60</td>\n",
       "      <td>0.72</td>\n",
       "      <td>0.38</td>\n",
       "      <td>-0.36</td>\n",
       "      <td>0.60</td>\n",
       "      <td>-0.48</td>\n",
       "    </tr>\n",
       "    <tr>\n",
       "      <th>CHAS</th>\n",
       "      <td>-0.06</td>\n",
       "      <td>-0.04</td>\n",
       "      <td>0.06</td>\n",
       "      <td>1.00</td>\n",
       "      <td>0.09</td>\n",
       "      <td>0.09</td>\n",
       "      <td>0.09</td>\n",
       "      <td>-0.10</td>\n",
       "      <td>-0.01</td>\n",
       "      <td>-0.04</td>\n",
       "      <td>-0.12</td>\n",
       "      <td>0.05</td>\n",
       "      <td>-0.05</td>\n",
       "      <td>0.18</td>\n",
       "    </tr>\n",
       "    <tr>\n",
       "      <th>NOX</th>\n",
       "      <td>0.42</td>\n",
       "      <td>-0.52</td>\n",
       "      <td>0.76</td>\n",
       "      <td>0.09</td>\n",
       "      <td>1.00</td>\n",
       "      <td>-0.30</td>\n",
       "      <td>0.73</td>\n",
       "      <td>-0.77</td>\n",
       "      <td>0.61</td>\n",
       "      <td>0.67</td>\n",
       "      <td>0.19</td>\n",
       "      <td>-0.38</td>\n",
       "      <td>0.59</td>\n",
       "      <td>-0.43</td>\n",
       "    </tr>\n",
       "    <tr>\n",
       "      <th>RM</th>\n",
       "      <td>-0.22</td>\n",
       "      <td>0.31</td>\n",
       "      <td>-0.39</td>\n",
       "      <td>0.09</td>\n",
       "      <td>-0.30</td>\n",
       "      <td>1.00</td>\n",
       "      <td>-0.24</td>\n",
       "      <td>0.21</td>\n",
       "      <td>-0.21</td>\n",
       "      <td>-0.29</td>\n",
       "      <td>-0.36</td>\n",
       "      <td>0.13</td>\n",
       "      <td>-0.61</td>\n",
       "      <td>0.70</td>\n",
       "    </tr>\n",
       "    <tr>\n",
       "      <th>AGE</th>\n",
       "      <td>0.35</td>\n",
       "      <td>-0.57</td>\n",
       "      <td>0.64</td>\n",
       "      <td>0.09</td>\n",
       "      <td>0.73</td>\n",
       "      <td>-0.24</td>\n",
       "      <td>1.00</td>\n",
       "      <td>-0.75</td>\n",
       "      <td>0.46</td>\n",
       "      <td>0.51</td>\n",
       "      <td>0.26</td>\n",
       "      <td>-0.27</td>\n",
       "      <td>0.60</td>\n",
       "      <td>-0.38</td>\n",
       "    </tr>\n",
       "    <tr>\n",
       "      <th>DIS</th>\n",
       "      <td>-0.38</td>\n",
       "      <td>0.66</td>\n",
       "      <td>-0.71</td>\n",
       "      <td>-0.10</td>\n",
       "      <td>-0.77</td>\n",
       "      <td>0.21</td>\n",
       "      <td>-0.75</td>\n",
       "      <td>1.00</td>\n",
       "      <td>-0.49</td>\n",
       "      <td>-0.53</td>\n",
       "      <td>-0.23</td>\n",
       "      <td>0.29</td>\n",
       "      <td>-0.50</td>\n",
       "      <td>0.25</td>\n",
       "    </tr>\n",
       "    <tr>\n",
       "      <th>RAD</th>\n",
       "      <td>0.63</td>\n",
       "      <td>-0.31</td>\n",
       "      <td>0.60</td>\n",
       "      <td>-0.01</td>\n",
       "      <td>0.61</td>\n",
       "      <td>-0.21</td>\n",
       "      <td>0.46</td>\n",
       "      <td>-0.49</td>\n",
       "      <td>1.00</td>\n",
       "      <td>0.91</td>\n",
       "      <td>0.46</td>\n",
       "      <td>-0.44</td>\n",
       "      <td>0.49</td>\n",
       "      <td>-0.38</td>\n",
       "    </tr>\n",
       "    <tr>\n",
       "      <th>TAX</th>\n",
       "      <td>0.58</td>\n",
       "      <td>-0.31</td>\n",
       "      <td>0.72</td>\n",
       "      <td>-0.04</td>\n",
       "      <td>0.67</td>\n",
       "      <td>-0.29</td>\n",
       "      <td>0.51</td>\n",
       "      <td>-0.53</td>\n",
       "      <td>0.91</td>\n",
       "      <td>1.00</td>\n",
       "      <td>0.46</td>\n",
       "      <td>-0.44</td>\n",
       "      <td>0.54</td>\n",
       "      <td>-0.47</td>\n",
       "    </tr>\n",
       "    <tr>\n",
       "      <th>PTRATIO</th>\n",
       "      <td>0.29</td>\n",
       "      <td>-0.39</td>\n",
       "      <td>0.38</td>\n",
       "      <td>-0.12</td>\n",
       "      <td>0.19</td>\n",
       "      <td>-0.36</td>\n",
       "      <td>0.26</td>\n",
       "      <td>-0.23</td>\n",
       "      <td>0.46</td>\n",
       "      <td>0.46</td>\n",
       "      <td>1.00</td>\n",
       "      <td>-0.18</td>\n",
       "      <td>0.37</td>\n",
       "      <td>-0.51</td>\n",
       "    </tr>\n",
       "    <tr>\n",
       "      <th>B</th>\n",
       "      <td>-0.39</td>\n",
       "      <td>0.18</td>\n",
       "      <td>-0.36</td>\n",
       "      <td>0.05</td>\n",
       "      <td>-0.38</td>\n",
       "      <td>0.13</td>\n",
       "      <td>-0.27</td>\n",
       "      <td>0.29</td>\n",
       "      <td>-0.44</td>\n",
       "      <td>-0.44</td>\n",
       "      <td>-0.18</td>\n",
       "      <td>1.00</td>\n",
       "      <td>-0.37</td>\n",
       "      <td>0.33</td>\n",
       "    </tr>\n",
       "    <tr>\n",
       "      <th>LSTAT</th>\n",
       "      <td>0.46</td>\n",
       "      <td>-0.41</td>\n",
       "      <td>0.60</td>\n",
       "      <td>-0.05</td>\n",
       "      <td>0.59</td>\n",
       "      <td>-0.61</td>\n",
       "      <td>0.60</td>\n",
       "      <td>-0.50</td>\n",
       "      <td>0.49</td>\n",
       "      <td>0.54</td>\n",
       "      <td>0.37</td>\n",
       "      <td>-0.37</td>\n",
       "      <td>1.00</td>\n",
       "      <td>-0.74</td>\n",
       "    </tr>\n",
       "    <tr>\n",
       "      <th>MEDV</th>\n",
       "      <td>-0.39</td>\n",
       "      <td>0.36</td>\n",
       "      <td>-0.48</td>\n",
       "      <td>0.18</td>\n",
       "      <td>-0.43</td>\n",
       "      <td>0.70</td>\n",
       "      <td>-0.38</td>\n",
       "      <td>0.25</td>\n",
       "      <td>-0.38</td>\n",
       "      <td>-0.47</td>\n",
       "      <td>-0.51</td>\n",
       "      <td>0.33</td>\n",
       "      <td>-0.74</td>\n",
       "      <td>1.00</td>\n",
       "    </tr>\n",
       "  </tbody>\n",
       "</table>\n",
       "</div>"
      ],
      "text/plain": [
       "         CRIM    ZN  INDUS  CHAS   NOX    RM   AGE   DIS   RAD   TAX  PTRATIO  \\\n",
       "CRIM     1.00 -0.20   0.41 -0.06  0.42 -0.22  0.35 -0.38  0.63  0.58     0.29   \n",
       "ZN      -0.20  1.00  -0.53 -0.04 -0.52  0.31 -0.57  0.66 -0.31 -0.31    -0.39   \n",
       "INDUS    0.41 -0.53   1.00  0.06  0.76 -0.39  0.64 -0.71  0.60  0.72     0.38   \n",
       "CHAS    -0.06 -0.04   0.06  1.00  0.09  0.09  0.09 -0.10 -0.01 -0.04    -0.12   \n",
       "NOX      0.42 -0.52   0.76  0.09  1.00 -0.30  0.73 -0.77  0.61  0.67     0.19   \n",
       "RM      -0.22  0.31  -0.39  0.09 -0.30  1.00 -0.24  0.21 -0.21 -0.29    -0.36   \n",
       "AGE      0.35 -0.57   0.64  0.09  0.73 -0.24  1.00 -0.75  0.46  0.51     0.26   \n",
       "DIS     -0.38  0.66  -0.71 -0.10 -0.77  0.21 -0.75  1.00 -0.49 -0.53    -0.23   \n",
       "RAD      0.63 -0.31   0.60 -0.01  0.61 -0.21  0.46 -0.49  1.00  0.91     0.46   \n",
       "TAX      0.58 -0.31   0.72 -0.04  0.67 -0.29  0.51 -0.53  0.91  1.00     0.46   \n",
       "PTRATIO  0.29 -0.39   0.38 -0.12  0.19 -0.36  0.26 -0.23  0.46  0.46     1.00   \n",
       "B       -0.39  0.18  -0.36  0.05 -0.38  0.13 -0.27  0.29 -0.44 -0.44    -0.18   \n",
       "LSTAT    0.46 -0.41   0.60 -0.05  0.59 -0.61  0.60 -0.50  0.49  0.54     0.37   \n",
       "MEDV    -0.39  0.36  -0.48  0.18 -0.43  0.70 -0.38  0.25 -0.38 -0.47    -0.51   \n",
       "\n",
       "            B  LSTAT  MEDV  \n",
       "CRIM    -0.39   0.46 -0.39  \n",
       "ZN       0.18  -0.41  0.36  \n",
       "INDUS   -0.36   0.60 -0.48  \n",
       "CHAS     0.05  -0.05  0.18  \n",
       "NOX     -0.38   0.59 -0.43  \n",
       "RM       0.13  -0.61  0.70  \n",
       "AGE     -0.27   0.60 -0.38  \n",
       "DIS      0.29  -0.50  0.25  \n",
       "RAD     -0.44   0.49 -0.38  \n",
       "TAX     -0.44   0.54 -0.47  \n",
       "PTRATIO -0.18   0.37 -0.51  \n",
       "B        1.00  -0.37  0.33  \n",
       "LSTAT   -0.37   1.00 -0.74  \n",
       "MEDV     0.33  -0.74  1.00  "
      ]
     },
     "execution_count": 39,
     "metadata": {},
     "output_type": "execute_result"
    }
   ],
   "source": [
    "np.round_(data.corr(), decimals=2)"
   ]
  },
  {
   "cell_type": "markdown",
   "metadata": {
    "colab_type": "text",
    "id": "111lURJGVrbU"
   },
   "source": [
    "Написать **линейную регрессию** на два атрибута. Допустим, мы хотим предсказать цену дома (MEDV) в Бостоне, зная что цена на дом имеет линейную зависимость с атрибутом LSTAT. "
   ]
  },
  {
   "cell_type": "markdown",
   "metadata": {
    "colab_type": "text",
    "id": "Naz_Byg1WKhm"
   },
   "source": [
    "\n",
    "\n",
    "1.   Разделить данные на 80% тренировочных, 20% тестовых\n",
    "2.   Составить модель линейной регрессии\n",
    "3.   Посчитать ошибку модели на тестовых данных\n",
    "4.   Сделать точечный график данных и полученной прямой линейной регрессии\n",
    "\n"
   ]
  },
  {
   "cell_type": "code",
   "execution_count": 46,
   "metadata": {},
   "outputs": [],
   "source": [
    "medv = data['MEDV']\n",
    "lstat = data['LSTAT']"
   ]
  },
  {
   "cell_type": "code",
   "execution_count": 47,
   "metadata": {},
   "outputs": [],
   "source": [
    "medv = np.array(medv).reshape(-1,1)\n",
    "lstat = np.array(lstat).reshape(-1,1)"
   ]
  },
  {
   "cell_type": "code",
   "execution_count": 48,
   "metadata": {},
   "outputs": [],
   "source": [
    "from sklearn.linear_model import LinearRegression\n",
    "model = LinearRegression()"
   ]
  },
  {
   "cell_type": "code",
   "execution_count": 49,
   "metadata": {},
   "outputs": [],
   "source": [
    "from sklearn.model_selection import train_test_split\n",
    "\n",
    "X_train, X_test, y_train, y_test = train_test_split(\n",
    "    medv,\n",
    "    lstat,\n",
    "    test_size = 0.2\n",
    ")"
   ]
  },
  {
   "cell_type": "code",
   "execution_count": 50,
   "metadata": {},
   "outputs": [
    {
     "data": {
      "text/plain": [
       "LinearRegression(copy_X=True, fit_intercept=True, n_jobs=None, normalize=False)"
      ]
     },
     "execution_count": 50,
     "metadata": {},
     "output_type": "execute_result"
    }
   ],
   "source": [
    "model.fit(X_train, y_train)"
   ]
  },
  {
   "cell_type": "code",
   "execution_count": 51,
   "metadata": {},
   "outputs": [],
   "source": [
    "predicted_y = model.predict(X_test)"
   ]
  },
  {
   "cell_type": "code",
   "execution_count": 60,
   "metadata": {},
   "outputs": [
    {
     "name": "stdout",
     "output_type": "stream",
     "text": [
      "16.46755140318789\n",
      "3.317231811145258\n"
     ]
    }
   ],
   "source": [
    "print(mean_squared_error(predicted_y, y_test))\n",
    "print(mean_absolute_error(predicted_y, y_test))"
   ]
  },
  {
   "cell_type": "code",
   "execution_count": 64,
   "metadata": {},
   "outputs": [
    {
     "data": {
      "image/png": "[encoded data removed]",
      "text/plain": [
       "<Figure size 432x288 with 1 Axes>"
      ]
     },
     "metadata": {
      "needs_background": "light"
     },
     "output_type": "display_data"
    }
   ],
   "source": [
    "plt.xlabel('medv')\n",
    "plt.ylabel('lstat')\n",
    "plt.title('Линейная регрессия от одной переменной')\n",
    "# Построим прямую для регрессии\n",
    "# Создадим 100 точек для предсказаний\n",
    "x = np.linspace(0, 100, 10)\n",
    "# Посчитаем предсказанные значения\n",
    "# y = kx + b\n",
    "# k = model.coef_\n",
    "# b = model.intercept_\n",
    "y = model.coef_*x + model.intercept_\n",
    "y = np.transpose(y)\n",
    "plt.plot(x,y)\n",
    "plt.plot(X_train, y_train, 'r.')\n",
    "plt.plot(X_test, y_test, 'go')\n",
    "plt.xlim(0,55)\n",
    "plt.ylim(0,40)\n",
    "plt.legend(['Прямая линейной регрессии', 'Тренировочные данные', 'Тестовые данные'])\n",
    "plt.show()"
   ]
  },
  {
   "cell_type": "markdown",
   "metadata": {
    "colab_type": "text",
    "id": "zqiJHPz7FUT2"
   },
   "source": [
    "Загрузить таблицу Happiness report. Посчитать матрицу ковариаций попарно. "
   ]
  },
  {
   "cell_type": "code",
   "execution_count": 66,
   "metadata": {
    "colab": {
     "base_uri": "https://localhost:8080/",
     "height": 238
    },
    "colab_type": "code",
    "id": "4FVMs-hUiv4i",
    "outputId": "4f8bb858-e745-4832-e05a-a40c48f8fa8a"
   },
   "outputs": [
    {
     "data": {
      "text/html": [
       "<div>\n",
       "<style scoped>\n",
       "    .dataframe tbody tr th:only-of-type {\n",
       "        vertical-align: middle;\n",
       "    }\n",
       "\n",
       "    .dataframe tbody tr th {\n",
       "        vertical-align: top;\n",
       "    }\n",
       "\n",
       "    .dataframe thead th {\n",
       "        text-align: right;\n",
       "    }\n",
       "</style>\n",
       "<table border=\"1\" class=\"dataframe\">\n",
       "  <thead>\n",
       "    <tr style=\"text-align: right;\">\n",
       "      <th></th>\n",
       "      <th>Country (region)</th>\n",
       "      <th>Ladder</th>\n",
       "      <th>SD of Ladder</th>\n",
       "      <th>Positive affect</th>\n",
       "      <th>Negative affect</th>\n",
       "      <th>Social support</th>\n",
       "      <th>Freedom</th>\n",
       "      <th>Corruption</th>\n",
       "      <th>Generosity</th>\n",
       "      <th>Log of GDP\\nper capita</th>\n",
       "      <th>Healthy life\\nexpectancy</th>\n",
       "    </tr>\n",
       "  </thead>\n",
       "  <tbody>\n",
       "    <tr>\n",
       "      <th>0</th>\n",
       "      <td>Finland</td>\n",
       "      <td>1</td>\n",
       "      <td>4</td>\n",
       "      <td>41.0</td>\n",
       "      <td>10.0</td>\n",
       "      <td>2.0</td>\n",
       "      <td>5.0</td>\n",
       "      <td>4.0</td>\n",
       "      <td>47.0</td>\n",
       "      <td>22.0</td>\n",
       "      <td>27.0</td>\n",
       "    </tr>\n",
       "    <tr>\n",
       "      <th>1</th>\n",
       "      <td>Denmark</td>\n",
       "      <td>2</td>\n",
       "      <td>13</td>\n",
       "      <td>24.0</td>\n",
       "      <td>26.0</td>\n",
       "      <td>4.0</td>\n",
       "      <td>6.0</td>\n",
       "      <td>3.0</td>\n",
       "      <td>22.0</td>\n",
       "      <td>14.0</td>\n",
       "      <td>23.0</td>\n",
       "    </tr>\n",
       "    <tr>\n",
       "      <th>2</th>\n",
       "      <td>Norway</td>\n",
       "      <td>3</td>\n",
       "      <td>8</td>\n",
       "      <td>16.0</td>\n",
       "      <td>29.0</td>\n",
       "      <td>3.0</td>\n",
       "      <td>3.0</td>\n",
       "      <td>8.0</td>\n",
       "      <td>11.0</td>\n",
       "      <td>7.0</td>\n",
       "      <td>12.0</td>\n",
       "    </tr>\n",
       "    <tr>\n",
       "      <th>3</th>\n",
       "      <td>Iceland</td>\n",
       "      <td>4</td>\n",
       "      <td>9</td>\n",
       "      <td>3.0</td>\n",
       "      <td>3.0</td>\n",
       "      <td>1.0</td>\n",
       "      <td>7.0</td>\n",
       "      <td>45.0</td>\n",
       "      <td>3.0</td>\n",
       "      <td>15.0</td>\n",
       "      <td>13.0</td>\n",
       "    </tr>\n",
       "    <tr>\n",
       "      <th>4</th>\n",
       "      <td>Netherlands</td>\n",
       "      <td>5</td>\n",
       "      <td>1</td>\n",
       "      <td>12.0</td>\n",
       "      <td>25.0</td>\n",
       "      <td>15.0</td>\n",
       "      <td>19.0</td>\n",
       "      <td>12.0</td>\n",
       "      <td>7.0</td>\n",
       "      <td>12.0</td>\n",
       "      <td>18.0</td>\n",
       "    </tr>\n",
       "  </tbody>\n",
       "</table>\n",
       "</div>"
      ],
      "text/plain": [
       "  Country (region)  Ladder  SD of Ladder  Positive affect  Negative affect  \\\n",
       "0          Finland       1             4             41.0             10.0   \n",
       "1          Denmark       2            13             24.0             26.0   \n",
       "2           Norway       3             8             16.0             29.0   \n",
       "3          Iceland       4             9              3.0              3.0   \n",
       "4      Netherlands       5             1             12.0             25.0   \n",
       "\n",
       "   Social support  Freedom  Corruption  Generosity  Log of GDP\\nper capita  \\\n",
       "0             2.0      5.0         4.0        47.0                    22.0   \n",
       "1             4.0      6.0         3.0        22.0                    14.0   \n",
       "2             3.0      3.0         8.0        11.0                     7.0   \n",
       "3             1.0      7.0        45.0         3.0                    15.0   \n",
       "4            15.0     19.0        12.0         7.0                    12.0   \n",
       "\n",
       "   Healthy life\\nexpectancy  \n",
       "0                      27.0  \n",
       "1                      23.0  \n",
       "2                      12.0  \n",
       "3                      13.0  \n",
       "4                      18.0  "
      ]
     },
     "execution_count": 66,
     "metadata": {},
     "output_type": "execute_result"
    }
   ],
   "source": [
    "url=\"http://yustiks.ru/dataset/world-happiness-report-2019.csv\"\n",
    "dat=pd.read_csv(url)\n",
    "dat.head()"
   ]
  },
  {
   "cell_type": "code",
   "execution_count": 67,
   "metadata": {},
   "outputs": [
    {
     "data": {
      "text/html": [
       "<div>\n",
       "<style scoped>\n",
       "    .dataframe tbody tr th:only-of-type {\n",
       "        vertical-align: middle;\n",
       "    }\n",
       "\n",
       "    .dataframe tbody tr th {\n",
       "        vertical-align: top;\n",
       "    }\n",
       "\n",
       "    .dataframe thead th {\n",
       "        text-align: right;\n",
       "    }\n",
       "</style>\n",
       "<table border=\"1\" class=\"dataframe\">\n",
       "  <thead>\n",
       "    <tr style=\"text-align: right;\">\n",
       "      <th></th>\n",
       "      <th>Healthy life\\nexpectancy</th>\n",
       "      <th>SD of Ladder</th>\n",
       "    </tr>\n",
       "  </thead>\n",
       "  <tbody>\n",
       "    <tr>\n",
       "      <th>Healthy life\\nexpectancy</th>\n",
       "      <td>1887.500000</td>\n",
       "      <td>1208.026846</td>\n",
       "    </tr>\n",
       "    <tr>\n",
       "      <th>SD of Ladder</th>\n",
       "      <td>1208.026846</td>\n",
       "      <td>2041.000000</td>\n",
       "    </tr>\n",
       "  </tbody>\n",
       "</table>\n",
       "</div>"
      ],
      "text/plain": [
       "                          Healthy life\\nexpectancy  SD of Ladder\n",
       "Healthy life\\nexpectancy               1887.500000   1208.026846\n",
       "SD of Ladder                           1208.026846   2041.000000"
      ]
     },
     "execution_count": 67,
     "metadata": {},
     "output_type": "execute_result"
    }
   ],
   "source": [
    "dat[['Healthy life\\nexpectancy', 'SD of Ladder']].cov()"
   ]
  },
  {
   "cell_type": "code",
   "execution_count": 68,
   "metadata": {},
   "outputs": [
    {
     "data": {
      "text/html": [
       "<div>\n",
       "<style scoped>\n",
       "    .dataframe tbody tr th:only-of-type {\n",
       "        vertical-align: middle;\n",
       "    }\n",
       "\n",
       "    .dataframe tbody tr th {\n",
       "        vertical-align: top;\n",
       "    }\n",
       "\n",
       "    .dataframe thead th {\n",
       "        text-align: right;\n",
       "    }\n",
       "</style>\n",
       "<table border=\"1\" class=\"dataframe\">\n",
       "  <thead>\n",
       "    <tr style=\"text-align: right;\">\n",
       "      <th></th>\n",
       "      <th>Healthy life\\nexpectancy</th>\n",
       "      <th>Positive affect</th>\n",
       "    </tr>\n",
       "  </thead>\n",
       "  <tbody>\n",
       "    <tr>\n",
       "      <th>Healthy life\\nexpectancy</th>\n",
       "      <td>1887.500000</td>\n",
       "      <td>647.908897</td>\n",
       "    </tr>\n",
       "    <tr>\n",
       "      <th>Positive affect</th>\n",
       "      <td>647.908897</td>\n",
       "      <td>2015.000000</td>\n",
       "    </tr>\n",
       "  </tbody>\n",
       "</table>\n",
       "</div>"
      ],
      "text/plain": [
       "                          Healthy life\\nexpectancy  Positive affect\n",
       "Healthy life\\nexpectancy               1887.500000       647.908897\n",
       "Positive affect                         647.908897      2015.000000"
      ]
     },
     "execution_count": 68,
     "metadata": {},
     "output_type": "execute_result"
    }
   ],
   "source": [
    "dat[['Healthy life\\nexpectancy', 'Positive affect']].cov()"
   ]
  },
  {
   "cell_type": "code",
   "execution_count": 69,
   "metadata": {},
   "outputs": [
    {
     "data": {
      "text/html": [
       "<div>\n",
       "<style scoped>\n",
       "    .dataframe tbody tr th:only-of-type {\n",
       "        vertical-align: middle;\n",
       "    }\n",
       "\n",
       "    .dataframe tbody tr th {\n",
       "        vertical-align: top;\n",
       "    }\n",
       "\n",
       "    .dataframe thead th {\n",
       "        text-align: right;\n",
       "    }\n",
       "</style>\n",
       "<table border=\"1\" class=\"dataframe\">\n",
       "  <thead>\n",
       "    <tr style=\"text-align: right;\">\n",
       "      <th></th>\n",
       "      <th>Healthy life\\nexpectancy</th>\n",
       "      <th>Negative affect</th>\n",
       "    </tr>\n",
       "  </thead>\n",
       "  <tbody>\n",
       "    <tr>\n",
       "      <th>Healthy life\\nexpectancy</th>\n",
       "      <td>1887.500000</td>\n",
       "      <td>944.803192</td>\n",
       "    </tr>\n",
       "    <tr>\n",
       "      <th>Negative affect</th>\n",
       "      <td>944.803192</td>\n",
       "      <td>2015.000000</td>\n",
       "    </tr>\n",
       "  </tbody>\n",
       "</table>\n",
       "</div>"
      ],
      "text/plain": [
       "                          Healthy life\\nexpectancy  Negative affect\n",
       "Healthy life\\nexpectancy               1887.500000       944.803192\n",
       "Negative affect                         944.803192      2015.000000"
      ]
     },
     "execution_count": 69,
     "metadata": {},
     "output_type": "execute_result"
    }
   ],
   "source": [
    "dat[['Healthy life\\nexpectancy', 'Negative affect']].cov()"
   ]
  },
  {
   "cell_type": "code",
   "execution_count": 70,
   "metadata": {},
   "outputs": [
    {
     "data": {
      "text/html": [
       "<div>\n",
       "<style scoped>\n",
       "    .dataframe tbody tr th:only-of-type {\n",
       "        vertical-align: middle;\n",
       "    }\n",
       "\n",
       "    .dataframe tbody tr th {\n",
       "        vertical-align: top;\n",
       "    }\n",
       "\n",
       "    .dataframe thead th {\n",
       "        text-align: right;\n",
       "    }\n",
       "</style>\n",
       "<table border=\"1\" class=\"dataframe\">\n",
       "  <thead>\n",
       "    <tr style=\"text-align: right;\">\n",
       "      <th></th>\n",
       "      <th>Healthy life\\nexpectancy</th>\n",
       "      <th>Social support</th>\n",
       "    </tr>\n",
       "  </thead>\n",
       "  <tbody>\n",
       "    <tr>\n",
       "      <th>Healthy life\\nexpectancy</th>\n",
       "      <td>1887.5000</td>\n",
       "      <td>1471.9191</td>\n",
       "    </tr>\n",
       "    <tr>\n",
       "      <th>Social support</th>\n",
       "      <td>1471.9191</td>\n",
       "      <td>2015.0000</td>\n",
       "    </tr>\n",
       "  </tbody>\n",
       "</table>\n",
       "</div>"
      ],
      "text/plain": [
       "                          Healthy life\\nexpectancy  Social support\n",
       "Healthy life\\nexpectancy                 1887.5000       1471.9191\n",
       "Social support                           1471.9191       2015.0000"
      ]
     },
     "execution_count": 70,
     "metadata": {},
     "output_type": "execute_result"
    }
   ],
   "source": [
    "dat[['Healthy life\\nexpectancy', 'Social support']].cov()"
   ]
  },
  {
   "cell_type": "code",
   "execution_count": 71,
   "metadata": {},
   "outputs": [
    {
     "data": {
      "text/html": [
       "<div>\n",
       "<style scoped>\n",
       "    .dataframe tbody tr th:only-of-type {\n",
       "        vertical-align: middle;\n",
       "    }\n",
       "\n",
       "    .dataframe tbody tr th {\n",
       "        vertical-align: top;\n",
       "    }\n",
       "\n",
       "    .dataframe thead th {\n",
       "        text-align: right;\n",
       "    }\n",
       "</style>\n",
       "<table border=\"1\" class=\"dataframe\">\n",
       "  <thead>\n",
       "    <tr style=\"text-align: right;\">\n",
       "      <th></th>\n",
       "      <th>Healthy life\\nexpectancy</th>\n",
       "      <th>Freedom</th>\n",
       "    </tr>\n",
       "  </thead>\n",
       "  <tbody>\n",
       "    <tr>\n",
       "      <th>Healthy life\\nexpectancy</th>\n",
       "      <td>1887.500000</td>\n",
       "      <td>821.386087</td>\n",
       "    </tr>\n",
       "    <tr>\n",
       "      <th>Freedom</th>\n",
       "      <td>821.386087</td>\n",
       "      <td>2015.000000</td>\n",
       "    </tr>\n",
       "  </tbody>\n",
       "</table>\n",
       "</div>"
      ],
      "text/plain": [
       "                          Healthy life\\nexpectancy      Freedom\n",
       "Healthy life\\nexpectancy               1887.500000   821.386087\n",
       "Freedom                                 821.386087  2015.000000"
      ]
     },
     "execution_count": 71,
     "metadata": {},
     "output_type": "execute_result"
    }
   ],
   "source": [
    "dat[['Healthy life\\nexpectancy', 'Freedom']].cov()"
   ]
  },
  {
   "cell_type": "code",
   "execution_count": 72,
   "metadata": {},
   "outputs": [
    {
     "data": {
      "text/html": [
       "<div>\n",
       "<style scoped>\n",
       "    .dataframe tbody tr th:only-of-type {\n",
       "        vertical-align: middle;\n",
       "    }\n",
       "\n",
       "    .dataframe tbody tr th {\n",
       "        vertical-align: top;\n",
       "    }\n",
       "\n",
       "    .dataframe thead th {\n",
       "        text-align: right;\n",
       "    }\n",
       "</style>\n",
       "<table border=\"1\" class=\"dataframe\">\n",
       "  <thead>\n",
       "    <tr style=\"text-align: right;\">\n",
       "      <th></th>\n",
       "      <th>Healthy life\\nexpectancy</th>\n",
       "      <th>Corruption</th>\n",
       "    </tr>\n",
       "  </thead>\n",
       "  <tbody>\n",
       "    <tr>\n",
       "      <th>Healthy life\\nexpectancy</th>\n",
       "      <td>1887.500000</td>\n",
       "      <td>233.044951</td>\n",
       "    </tr>\n",
       "    <tr>\n",
       "      <th>Corruption</th>\n",
       "      <td>233.044951</td>\n",
       "      <td>1837.666667</td>\n",
       "    </tr>\n",
       "  </tbody>\n",
       "</table>\n",
       "</div>"
      ],
      "text/plain": [
       "                          Healthy life\\nexpectancy   Corruption\n",
       "Healthy life\\nexpectancy               1887.500000   233.044951\n",
       "Corruption                              233.044951  1837.666667"
      ]
     },
     "execution_count": 72,
     "metadata": {},
     "output_type": "execute_result"
    }
   ],
   "source": [
    "dat[['Healthy life\\nexpectancy', 'Corruption']].cov()"
   ]
  },
  {
   "cell_type": "code",
   "execution_count": 73,
   "metadata": {},
   "outputs": [
    {
     "data": {
      "text/html": [
       "<div>\n",
       "<style scoped>\n",
       "    .dataframe tbody tr th:only-of-type {\n",
       "        vertical-align: middle;\n",
       "    }\n",
       "\n",
       "    .dataframe tbody tr th {\n",
       "        vertical-align: top;\n",
       "    }\n",
       "\n",
       "    .dataframe thead th {\n",
       "        text-align: right;\n",
       "    }\n",
       "</style>\n",
       "<table border=\"1\" class=\"dataframe\">\n",
       "  <thead>\n",
       "    <tr style=\"text-align: right;\">\n",
       "      <th></th>\n",
       "      <th>Healthy life\\nexpectancy</th>\n",
       "      <th>Generosity</th>\n",
       "    </tr>\n",
       "  </thead>\n",
       "  <tbody>\n",
       "    <tr>\n",
       "      <th>Healthy life\\nexpectancy</th>\n",
       "      <td>1887.500000</td>\n",
       "      <td>836.343869</td>\n",
       "    </tr>\n",
       "    <tr>\n",
       "      <th>Generosity</th>\n",
       "      <td>836.343869</td>\n",
       "      <td>2015.000000</td>\n",
       "    </tr>\n",
       "  </tbody>\n",
       "</table>\n",
       "</div>"
      ],
      "text/plain": [
       "                          Healthy life\\nexpectancy   Generosity\n",
       "Healthy life\\nexpectancy               1887.500000   836.343869\n",
       "Generosity                              836.343869  2015.000000"
      ]
     },
     "execution_count": 73,
     "metadata": {},
     "output_type": "execute_result"
    }
   ],
   "source": [
    "dat[['Healthy life\\nexpectancy', 'Generosity']].cov()"
   ]
  },
  {
   "cell_type": "code",
   "execution_count": 74,
   "metadata": {},
   "outputs": [
    {
     "data": {
      "text/html": [
       "<div>\n",
       "<style scoped>\n",
       "    .dataframe tbody tr th:only-of-type {\n",
       "        vertical-align: middle;\n",
       "    }\n",
       "\n",
       "    .dataframe tbody tr th {\n",
       "        vertical-align: top;\n",
       "    }\n",
       "\n",
       "    .dataframe thead th {\n",
       "        text-align: right;\n",
       "    }\n",
       "</style>\n",
       "<table border=\"1\" class=\"dataframe\">\n",
       "  <thead>\n",
       "    <tr style=\"text-align: right;\">\n",
       "      <th></th>\n",
       "      <th>Healthy life\\nexpectancy</th>\n",
       "      <th>Log of GDP\\nper capita</th>\n",
       "    </tr>\n",
       "  </thead>\n",
       "  <tbody>\n",
       "    <tr>\n",
       "      <th>Healthy life\\nexpectancy</th>\n",
       "      <td>1887.50000</td>\n",
       "      <td>1614.02597</td>\n",
       "    </tr>\n",
       "    <tr>\n",
       "      <th>Log of GDP\\nper capita</th>\n",
       "      <td>1614.02597</td>\n",
       "      <td>1938.00000</td>\n",
       "    </tr>\n",
       "  </tbody>\n",
       "</table>\n",
       "</div>"
      ],
      "text/plain": [
       "                          Healthy life\\nexpectancy  Log of GDP\\nper capita\n",
       "Healthy life\\nexpectancy                1887.50000              1614.02597\n",
       "Log of GDP\\nper capita                  1614.02597              1938.00000"
      ]
     },
     "execution_count": 74,
     "metadata": {},
     "output_type": "execute_result"
    }
   ],
   "source": [
    "dat[['Healthy life\\nexpectancy', 'Log of GDP\\nper capita']].cov()"
   ]
  },
  {
   "cell_type": "markdown",
   "metadata": {
    "colab_type": "text",
    "id": "AEV-w8iDrzwl"
   },
   "source": [
    "Сколько в данной таблице отсутствующих значений? Написать ответ. Если есть отсутствующие значения в выборке country, убрать (drop). Сколько стран в выборке? Написать ответ.\n",
    "\n",
    "**Ответ:** Больше всего пропусков в столбце Corruption - 8, стран и индексов стран 156, в остальных столбцах по 155 значений."
   ]
  },
  {
   "cell_type": "code",
   "execution_count": 75,
   "metadata": {},
   "outputs": [
    {
     "name": "stdout",
     "output_type": "stream",
     "text": [
      "<class 'pandas.core.frame.DataFrame'>\n",
      "RangeIndex: 156 entries, 0 to 155\n",
      "Data columns (total 11 columns):\n",
      " #   Column                   Non-Null Count  Dtype  \n",
      "---  ------                   --------------  -----  \n",
      " 0   Country (region)         156 non-null    object \n",
      " 1   Ladder                   156 non-null    int64  \n",
      " 2   SD of Ladder             156 non-null    int64  \n",
      " 3   Positive affect          155 non-null    float64\n",
      " 4   Negative affect          155 non-null    float64\n",
      " 5   Social support           155 non-null    float64\n",
      " 6   Freedom                  155 non-null    float64\n",
      " 7   Corruption               148 non-null    float64\n",
      " 8   Generosity               155 non-null    float64\n",
      " 9   Log of GDP\n",
      "per capita    152 non-null    float64\n",
      " 10  Healthy life\n",
      "expectancy  150 non-null    float64\n",
      "dtypes: float64(8), int64(2), object(1)\n",
      "memory usage: 13.5+ KB\n"
     ]
    }
   ],
   "source": [
    "data.info()"
   ]
  },
  {
   "cell_type": "markdown",
   "metadata": {
    "colab_type": "text",
    "id": "Xo3Q738TsMBV"
   },
   "source": [
    "Построить матрицу корреляций для таблицы. Какие можно сделать выводы?"
   ]
  },
  {
   "cell_type": "code",
   "execution_count": 76,
   "metadata": {},
   "outputs": [
    {
     "data": {
      "text/html": [
       "<style  type=\"text/css\" >\n",
       "    #T_9ee17522_d14e_11ea_be6a_a0b3cc773ba4row0_col0 {\n",
       "            background-color:  #b40426;\n",
       "            color:  #f1f1f1;\n",
       "        }    #T_9ee17522_d14e_11ea_be6a_a0b3cc773ba4row0_col1 {\n",
       "            background-color:  #dcdddd;\n",
       "            color:  #000000;\n",
       "        }    #T_9ee17522_d14e_11ea_be6a_a0b3cc773ba4row0_col2 {\n",
       "            background-color:  #cdd9ec;\n",
       "            color:  #000000;\n",
       "        }    #T_9ee17522_d14e_11ea_be6a_a0b3cc773ba4row0_col3 {\n",
       "            background-color:  #cbd8ee;\n",
       "            color:  #000000;\n",
       "        }    #T_9ee17522_d14e_11ea_be6a_a0b3cc773ba4row0_col4 {\n",
       "            background-color:  #ee8669;\n",
       "            color:  #000000;\n",
       "        }    #T_9ee17522_d14e_11ea_be6a_a0b3cc773ba4row0_col5 {\n",
       "            background-color:  #bed2f6;\n",
       "            color:  #000000;\n",
       "        }    #T_9ee17522_d14e_11ea_be6a_a0b3cc773ba4row0_col6 {\n",
       "            background-color:  #536edd;\n",
       "            color:  #000000;\n",
       "        }    #T_9ee17522_d14e_11ea_be6a_a0b3cc773ba4row0_col7 {\n",
       "            background-color:  #a3c2fe;\n",
       "            color:  #000000;\n",
       "        }    #T_9ee17522_d14e_11ea_be6a_a0b3cc773ba4row0_col8 {\n",
       "            background-color:  #f29274;\n",
       "            color:  #000000;\n",
       "        }    #T_9ee17522_d14e_11ea_be6a_a0b3cc773ba4row0_col9 {\n",
       "            background-color:  #ef886b;\n",
       "            color:  #000000;\n",
       "        }    #T_9ee17522_d14e_11ea_be6a_a0b3cc773ba4row1_col0 {\n",
       "            background-color:  #cad8ef;\n",
       "            color:  #000000;\n",
       "        }    #T_9ee17522_d14e_11ea_be6a_a0b3cc773ba4row1_col1 {\n",
       "            background-color:  #b40426;\n",
       "            color:  #f1f1f1;\n",
       "        }    #T_9ee17522_d14e_11ea_be6a_a0b3cc773ba4row1_col2 {\n",
       "            background-color:  #3b4cc0;\n",
       "            color:  #f1f1f1;\n",
       "        }    #T_9ee17522_d14e_11ea_be6a_a0b3cc773ba4row1_col3 {\n",
       "            background-color:  #e9d5cb;\n",
       "            color:  #000000;\n",
       "        }    #T_9ee17522_d14e_11ea_be6a_a0b3cc773ba4row1_col4 {\n",
       "            background-color:  #e8d6cc;\n",
       "            color:  #000000;\n",
       "        }    #T_9ee17522_d14e_11ea_be6a_a0b3cc773ba4row1_col5 {\n",
       "            background-color:  #3b4cc0;\n",
       "            color:  #f1f1f1;\n",
       "        }    #T_9ee17522_d14e_11ea_be6a_a0b3cc773ba4row1_col6 {\n",
       "            background-color:  #6c8ff1;\n",
       "            color:  #000000;\n",
       "        }    #T_9ee17522_d14e_11ea_be6a_a0b3cc773ba4row1_col7 {\n",
       "            background-color:  #7093f3;\n",
       "            color:  #000000;\n",
       "        }    #T_9ee17522_d14e_11ea_be6a_a0b3cc773ba4row1_col8 {\n",
       "            background-color:  #e6d7cf;\n",
       "            color:  #000000;\n",
       "        }    #T_9ee17522_d14e_11ea_be6a_a0b3cc773ba4row1_col9 {\n",
       "            background-color:  #ead4c8;\n",
       "            color:  #000000;\n",
       "        }    #T_9ee17522_d14e_11ea_be6a_a0b3cc773ba4row2_col0 {\n",
       "            background-color:  #b7cff9;\n",
       "            color:  #000000;\n",
       "        }    #T_9ee17522_d14e_11ea_be6a_a0b3cc773ba4row2_col1 {\n",
       "            background-color:  #3b4cc0;\n",
       "            color:  #f1f1f1;\n",
       "        }    #T_9ee17522_d14e_11ea_be6a_a0b3cc773ba4row2_col2 {\n",
       "            background-color:  #b40426;\n",
       "            color:  #f1f1f1;\n",
       "        }    #T_9ee17522_d14e_11ea_be6a_a0b3cc773ba4row2_col3 {\n",
       "            background-color:  #96b7ff;\n",
       "            color:  #000000;\n",
       "        }    #T_9ee17522_d14e_11ea_be6a_a0b3cc773ba4row2_col4 {\n",
       "            background-color:  #9fbfff;\n",
       "            color:  #000000;\n",
       "        }    #T_9ee17522_d14e_11ea_be6a_a0b3cc773ba4row2_col5 {\n",
       "            background-color:  #eed0c0;\n",
       "            color:  #000000;\n",
       "        }    #T_9ee17522_d14e_11ea_be6a_a0b3cc773ba4row2_col6 {\n",
       "            background-color:  #5a78e4;\n",
       "            color:  #000000;\n",
       "        }    #T_9ee17522_d14e_11ea_be6a_a0b3cc773ba4row2_col7 {\n",
       "            background-color:  #5f7fe8;\n",
       "            color:  #000000;\n",
       "        }    #T_9ee17522_d14e_11ea_be6a_a0b3cc773ba4row2_col8 {\n",
       "            background-color:  #6384eb;\n",
       "            color:  #000000;\n",
       "        }    #T_9ee17522_d14e_11ea_be6a_a0b3cc773ba4row2_col9 {\n",
       "            background-color:  #89acfd;\n",
       "            color:  #000000;\n",
       "        }    #T_9ee17522_d14e_11ea_be6a_a0b3cc773ba4row3_col0 {\n",
       "            background-color:  #c4d5f3;\n",
       "            color:  #000000;\n",
       "        }    #T_9ee17522_d14e_11ea_be6a_a0b3cc773ba4row3_col1 {\n",
       "            background-color:  #efcebd;\n",
       "            color:  #000000;\n",
       "        }    #T_9ee17522_d14e_11ea_be6a_a0b3cc773ba4row3_col2 {\n",
       "            background-color:  #aac7fd;\n",
       "            color:  #000000;\n",
       "        }    #T_9ee17522_d14e_11ea_be6a_a0b3cc773ba4row3_col3 {\n",
       "            background-color:  #b40426;\n",
       "            color:  #f1f1f1;\n",
       "        }    #T_9ee17522_d14e_11ea_be6a_a0b3cc773ba4row3_col4 {\n",
       "            background-color:  #edd1c2;\n",
       "            color:  #000000;\n",
       "        }    #T_9ee17522_d14e_11ea_be6a_a0b3cc773ba4row3_col5 {\n",
       "            background-color:  #89acfd;\n",
       "            color:  #000000;\n",
       "        }    #T_9ee17522_d14e_11ea_be6a_a0b3cc773ba4row3_col6 {\n",
       "            background-color:  #485fd1;\n",
       "            color:  #f1f1f1;\n",
       "        }    #T_9ee17522_d14e_11ea_be6a_a0b3cc773ba4row3_col7 {\n",
       "            background-color:  #5977e3;\n",
       "            color:  #000000;\n",
       "        }    #T_9ee17522_d14e_11ea_be6a_a0b3cc773ba4row3_col8 {\n",
       "            background-color:  #c9d7f0;\n",
       "            color:  #000000;\n",
       "        }    #T_9ee17522_d14e_11ea_be6a_a0b3cc773ba4row3_col9 {\n",
       "            background-color:  #c5d6f2;\n",
       "            color:  #000000;\n",
       "        }    #T_9ee17522_d14e_11ea_be6a_a0b3cc773ba4row4_col0 {\n",
       "            background-color:  #f18f71;\n",
       "            color:  #000000;\n",
       "        }    #T_9ee17522_d14e_11ea_be6a_a0b3cc773ba4row4_col1 {\n",
       "            background-color:  #ebd3c6;\n",
       "            color:  #000000;\n",
       "        }    #T_9ee17522_d14e_11ea_be6a_a0b3cc773ba4row4_col2 {\n",
       "            background-color:  #a9c6fd;\n",
       "            color:  #000000;\n",
       "        }    #T_9ee17522_d14e_11ea_be6a_a0b3cc773ba4row4_col3 {\n",
       "            background-color:  #e9d5cb;\n",
       "            color:  #000000;\n",
       "        }    #T_9ee17522_d14e_11ea_be6a_a0b3cc773ba4row4_col4 {\n",
       "            background-color:  #b40426;\n",
       "            color:  #f1f1f1;\n",
       "        }    #T_9ee17522_d14e_11ea_be6a_a0b3cc773ba4row4_col5 {\n",
       "            background-color:  #92b4fe;\n",
       "            color:  #000000;\n",
       "        }    #T_9ee17522_d14e_11ea_be6a_a0b3cc773ba4row4_col6 {\n",
       "            background-color:  #3b4cc0;\n",
       "            color:  #f1f1f1;\n",
       "        }    #T_9ee17522_d14e_11ea_be6a_a0b3cc773ba4row4_col7 {\n",
       "            background-color:  #89acfd;\n",
       "            color:  #000000;\n",
       "        }    #T_9ee17522_d14e_11ea_be6a_a0b3cc773ba4row4_col8 {\n",
       "            background-color:  #f7a688;\n",
       "            color:  #000000;\n",
       "        }    #T_9ee17522_d14e_11ea_be6a_a0b3cc773ba4row4_col9 {\n",
       "            background-color:  #f7aa8c;\n",
       "            color:  #000000;\n",
       "        }    #T_9ee17522_d14e_11ea_be6a_a0b3cc773ba4row5_col0 {\n",
       "            background-color:  #ccd9ed;\n",
       "            color:  #000000;\n",
       "        }    #T_9ee17522_d14e_11ea_be6a_a0b3cc773ba4row5_col1 {\n",
       "            background-color:  #7597f6;\n",
       "            color:  #000000;\n",
       "        }    #T_9ee17522_d14e_11ea_be6a_a0b3cc773ba4row5_col2 {\n",
       "            background-color:  #f6bda2;\n",
       "            color:  #000000;\n",
       "        }    #T_9ee17522_d14e_11ea_be6a_a0b3cc773ba4row5_col3 {\n",
       "            background-color:  #a6c4fe;\n",
       "            color:  #000000;\n",
       "        }    #T_9ee17522_d14e_11ea_be6a_a0b3cc773ba4row5_col4 {\n",
       "            background-color:  #b7cff9;\n",
       "            color:  #000000;\n",
       "        }    #T_9ee17522_d14e_11ea_be6a_a0b3cc773ba4row5_col5 {\n",
       "            background-color:  #b40426;\n",
       "            color:  #f1f1f1;\n",
       "        }    #T_9ee17522_d14e_11ea_be6a_a0b3cc773ba4row5_col6 {\n",
       "            background-color:  #9ebeff;\n",
       "            color:  #000000;\n",
       "        }    #T_9ee17522_d14e_11ea_be6a_a0b3cc773ba4row5_col7 {\n",
       "            background-color:  #a1c0ff;\n",
       "            color:  #000000;\n",
       "        }    #T_9ee17522_d14e_11ea_be6a_a0b3cc773ba4row5_col8 {\n",
       "            background-color:  #92b4fe;\n",
       "            color:  #000000;\n",
       "        }    #T_9ee17522_d14e_11ea_be6a_a0b3cc773ba4row5_col9 {\n",
       "            background-color:  #aac7fd;\n",
       "            color:  #000000;\n",
       "        }    #T_9ee17522_d14e_11ea_be6a_a0b3cc773ba4row6_col0 {\n",
       "            background-color:  #3b4cc0;\n",
       "            color:  #f1f1f1;\n",
       "        }    #T_9ee17522_d14e_11ea_be6a_a0b3cc773ba4row6_col1 {\n",
       "            background-color:  #779af7;\n",
       "            color:  #000000;\n",
       "        }    #T_9ee17522_d14e_11ea_be6a_a0b3cc773ba4row6_col2 {\n",
       "            background-color:  #6485ec;\n",
       "            color:  #000000;\n",
       "        }    #T_9ee17522_d14e_11ea_be6a_a0b3cc773ba4row6_col3 {\n",
       "            background-color:  #3b4cc0;\n",
       "            color:  #f1f1f1;\n",
       "        }    #T_9ee17522_d14e_11ea_be6a_a0b3cc773ba4row6_col4 {\n",
       "            background-color:  #3b4cc0;\n",
       "            color:  #f1f1f1;\n",
       "        }    #T_9ee17522_d14e_11ea_be6a_a0b3cc773ba4row6_col5 {\n",
       "            background-color:  #7295f4;\n",
       "            color:  #000000;\n",
       "        }    #T_9ee17522_d14e_11ea_be6a_a0b3cc773ba4row6_col6 {\n",
       "            background-color:  #b40426;\n",
       "            color:  #f1f1f1;\n",
       "        }    #T_9ee17522_d14e_11ea_be6a_a0b3cc773ba4row6_col7 {\n",
       "            background-color:  #3b4cc0;\n",
       "            color:  #f1f1f1;\n",
       "        }    #T_9ee17522_d14e_11ea_be6a_a0b3cc773ba4row6_col8 {\n",
       "            background-color:  #3b4cc0;\n",
       "            color:  #f1f1f1;\n",
       "        }    #T_9ee17522_d14e_11ea_be6a_a0b3cc773ba4row6_col9 {\n",
       "            background-color:  #3b4cc0;\n",
       "            color:  #f1f1f1;\n",
       "        }    #T_9ee17522_d14e_11ea_be6a_a0b3cc773ba4row7_col0 {\n",
       "            background-color:  #bad0f8;\n",
       "            color:  #000000;\n",
       "        }    #T_9ee17522_d14e_11ea_be6a_a0b3cc773ba4row7_col1 {\n",
       "            background-color:  #aac7fd;\n",
       "            color:  #000000;\n",
       "        }    #T_9ee17522_d14e_11ea_be6a_a0b3cc773ba4row7_col2 {\n",
       "            background-color:  #9dbdff;\n",
       "            color:  #000000;\n",
       "        }    #T_9ee17522_d14e_11ea_be6a_a0b3cc773ba4row7_col3 {\n",
       "            background-color:  #80a3fa;\n",
       "            color:  #000000;\n",
       "        }    #T_9ee17522_d14e_11ea_be6a_a0b3cc773ba4row7_col4 {\n",
       "            background-color:  #b6cefa;\n",
       "            color:  #000000;\n",
       "        }    #T_9ee17522_d14e_11ea_be6a_a0b3cc773ba4row7_col5 {\n",
       "            background-color:  #a5c3fe;\n",
       "            color:  #000000;\n",
       "        }    #T_9ee17522_d14e_11ea_be6a_a0b3cc773ba4row7_col6 {\n",
       "            background-color:  #6f92f3;\n",
       "            color:  #000000;\n",
       "        }    #T_9ee17522_d14e_11ea_be6a_a0b3cc773ba4row7_col7 {\n",
       "            background-color:  #b40426;\n",
       "            color:  #f1f1f1;\n",
       "        }    #T_9ee17522_d14e_11ea_be6a_a0b3cc773ba4row7_col8 {\n",
       "            background-color:  #afcafc;\n",
       "            color:  #000000;\n",
       "        }    #T_9ee17522_d14e_11ea_be6a_a0b3cc773ba4row7_col9 {\n",
       "            background-color:  #b1cbfc;\n",
       "            color:  #000000;\n",
       "        }    #T_9ee17522_d14e_11ea_be6a_a0b3cc773ba4row8_col0 {\n",
       "            background-color:  #f29072;\n",
       "            color:  #000000;\n",
       "        }    #T_9ee17522_d14e_11ea_be6a_a0b3cc773ba4row8_col1 {\n",
       "            background-color:  #f1ccb8;\n",
       "            color:  #000000;\n",
       "        }    #T_9ee17522_d14e_11ea_be6a_a0b3cc773ba4row8_col2 {\n",
       "            background-color:  #89acfd;\n",
       "            color:  #000000;\n",
       "        }    #T_9ee17522_d14e_11ea_be6a_a0b3cc773ba4row8_col3 {\n",
       "            background-color:  #d1dae9;\n",
       "            color:  #000000;\n",
       "        }    #T_9ee17522_d14e_11ea_be6a_a0b3cc773ba4row8_col4 {\n",
       "            background-color:  #f59c7d;\n",
       "            color:  #000000;\n",
       "        }    #T_9ee17522_d14e_11ea_be6a_a0b3cc773ba4row8_col5 {\n",
       "            background-color:  #7ea1fa;\n",
       "            color:  #000000;\n",
       "        }    #T_9ee17522_d14e_11ea_be6a_a0b3cc773ba4row8_col6 {\n",
       "            background-color:  #5673e0;\n",
       "            color:  #000000;\n",
       "        }    #T_9ee17522_d14e_11ea_be6a_a0b3cc773ba4row8_col7 {\n",
       "            background-color:  #9bbcff;\n",
       "            color:  #000000;\n",
       "        }    #T_9ee17522_d14e_11ea_be6a_a0b3cc773ba4row8_col8 {\n",
       "            background-color:  #b40426;\n",
       "            color:  #f1f1f1;\n",
       "        }    #T_9ee17522_d14e_11ea_be6a_a0b3cc773ba4row8_col9 {\n",
       "            background-color:  #e9785d;\n",
       "            color:  #000000;\n",
       "        }    #T_9ee17522_d14e_11ea_be6a_a0b3cc773ba4row9_col0 {\n",
       "            background-color:  #f18f71;\n",
       "            color:  #000000;\n",
       "        }    #T_9ee17522_d14e_11ea_be6a_a0b3cc773ba4row9_col1 {\n",
       "            background-color:  #eed0c0;\n",
       "            color:  #000000;\n",
       "        }    #T_9ee17522_d14e_11ea_be6a_a0b3cc773ba4row9_col2 {\n",
       "            background-color:  #94b6ff;\n",
       "            color:  #000000;\n",
       "        }    #T_9ee17522_d14e_11ea_be6a_a0b3cc773ba4row9_col3 {\n",
       "            background-color:  #bed2f6;\n",
       "            color:  #000000;\n",
       "        }    #T_9ee17522_d14e_11ea_be6a_a0b3cc773ba4row9_col4 {\n",
       "            background-color:  #f7aa8c;\n",
       "            color:  #000000;\n",
       "        }    #T_9ee17522_d14e_11ea_be6a_a0b3cc773ba4row9_col5 {\n",
       "            background-color:  #82a6fb;\n",
       "            color:  #000000;\n",
       "        }    #T_9ee17522_d14e_11ea_be6a_a0b3cc773ba4row9_col6 {\n",
       "            background-color:  #3c4ec2;\n",
       "            color:  #f1f1f1;\n",
       "        }    #T_9ee17522_d14e_11ea_be6a_a0b3cc773ba4row9_col7 {\n",
       "            background-color:  #84a7fc;\n",
       "            color:  #000000;\n",
       "        }    #T_9ee17522_d14e_11ea_be6a_a0b3cc773ba4row9_col8 {\n",
       "            background-color:  #ec7f63;\n",
       "            color:  #000000;\n",
       "        }    #T_9ee17522_d14e_11ea_be6a_a0b3cc773ba4row9_col9 {\n",
       "            background-color:  #b40426;\n",
       "            color:  #f1f1f1;\n",
       "        }</style><table id=\"T_9ee17522_d14e_11ea_be6a_a0b3cc773ba4\" ><thead>    <tr>        <th class=\"blank level0\" ></th>        <th class=\"col_heading level0 col0\" >Ladder</th>        <th class=\"col_heading level0 col1\" >SD of Ladder</th>        <th class=\"col_heading level0 col2\" >Positive affect</th>        <th class=\"col_heading level0 col3\" >Negative affect</th>        <th class=\"col_heading level0 col4\" >Social support</th>        <th class=\"col_heading level0 col5\" >Freedom</th>        <th class=\"col_heading level0 col6\" >Corruption</th>        <th class=\"col_heading level0 col7\" >Generosity</th>        <th class=\"col_heading level0 col8\" >Log of GDP\n",
       "per capita</th>        <th class=\"col_heading level0 col9\" >Healthy life\n",
       "expectancy</th>    </tr></thead><tbody>\n",
       "                <tr>\n",
       "                        <th id=\"T_9ee17522_d14e_11ea_be6a_a0b3cc773ba4level0_row0\" class=\"row_heading level0 row0\" >Ladder</th>\n",
       "                        <td id=\"T_9ee17522_d14e_11ea_be6a_a0b3cc773ba4row0_col0\" class=\"data row0 col0\" >1.00</td>\n",
       "                        <td id=\"T_9ee17522_d14e_11ea_be6a_a0b3cc773ba4row0_col1\" class=\"data row0 col1\" >0.54</td>\n",
       "                        <td id=\"T_9ee17522_d14e_11ea_be6a_a0b3cc773ba4row0_col2\" class=\"data row0 col2\" >0.49</td>\n",
       "                        <td id=\"T_9ee17522_d14e_11ea_be6a_a0b3cc773ba4row0_col3\" class=\"data row0 col3\" >0.52</td>\n",
       "                        <td id=\"T_9ee17522_d14e_11ea_be6a_a0b3cc773ba4row0_col4\" class=\"data row0 col4\" >0.82</td>\n",
       "                        <td id=\"T_9ee17522_d14e_11ea_be6a_a0b3cc773ba4row0_col5\" class=\"data row0 col5\" >0.55</td>\n",
       "                        <td id=\"T_9ee17522_d14e_11ea_be6a_a0b3cc773ba4row0_col6\" class=\"data row0 col6\" >0.19</td>\n",
       "                        <td id=\"T_9ee17522_d14e_11ea_be6a_a0b3cc773ba4row0_col7\" class=\"data row0 col7\" >0.50</td>\n",
       "                        <td id=\"T_9ee17522_d14e_11ea_be6a_a0b3cc773ba4row0_col8\" class=\"data row0 col8\" >0.81</td>\n",
       "                        <td id=\"T_9ee17522_d14e_11ea_be6a_a0b3cc773ba4row0_col9\" class=\"data row0 col9\" >0.82</td>\n",
       "            </tr>\n",
       "            <tr>\n",
       "                        <th id=\"T_9ee17522_d14e_11ea_be6a_a0b3cc773ba4level0_row1\" class=\"row_heading level0 row1\" >SD of Ladder</th>\n",
       "                        <td id=\"T_9ee17522_d14e_11ea_be6a_a0b3cc773ba4row1_col0\" class=\"data row1 col0\" >0.54</td>\n",
       "                        <td id=\"T_9ee17522_d14e_11ea_be6a_a0b3cc773ba4row1_col1\" class=\"data row1 col1\" >1.00</td>\n",
       "                        <td id=\"T_9ee17522_d14e_11ea_be6a_a0b3cc773ba4row1_col2\" class=\"data row1 col2\" >0.09</td>\n",
       "                        <td id=\"T_9ee17522_d14e_11ea_be6a_a0b3cc773ba4row1_col3\" class=\"data row1 col3\" >0.62</td>\n",
       "                        <td id=\"T_9ee17522_d14e_11ea_be6a_a0b3cc773ba4row1_col4\" class=\"data row1 col4\" >0.60</td>\n",
       "                        <td id=\"T_9ee17522_d14e_11ea_be6a_a0b3cc773ba4row1_col5\" class=\"data row1 col5\" >0.25</td>\n",
       "                        <td id=\"T_9ee17522_d14e_11ea_be6a_a0b3cc773ba4row1_col6\" class=\"data row1 col6\" >0.26</td>\n",
       "                        <td id=\"T_9ee17522_d14e_11ea_be6a_a0b3cc773ba4row1_col7\" class=\"data row1 col7\" >0.39</td>\n",
       "                        <td id=\"T_9ee17522_d14e_11ea_be6a_a0b3cc773ba4row1_col8\" class=\"data row1 col8\" >0.63</td>\n",
       "                        <td id=\"T_9ee17522_d14e_11ea_be6a_a0b3cc773ba4row1_col9\" class=\"data row1 col9\" >0.61</td>\n",
       "            </tr>\n",
       "            <tr>\n",
       "                        <th id=\"T_9ee17522_d14e_11ea_be6a_a0b3cc773ba4level0_row2\" class=\"row_heading level0 row2\" >Positive affect</th>\n",
       "                        <td id=\"T_9ee17522_d14e_11ea_be6a_a0b3cc773ba4row2_col0\" class=\"data row2 col0\" >0.49</td>\n",
       "                        <td id=\"T_9ee17522_d14e_11ea_be6a_a0b3cc773ba4row2_col1\" class=\"data row2 col1\" >0.09</td>\n",
       "                        <td id=\"T_9ee17522_d14e_11ea_be6a_a0b3cc773ba4row2_col2\" class=\"data row2 col2\" >1.00</td>\n",
       "                        <td id=\"T_9ee17522_d14e_11ea_be6a_a0b3cc773ba4row2_col3\" class=\"data row2 col3\" >0.39</td>\n",
       "                        <td id=\"T_9ee17522_d14e_11ea_be6a_a0b3cc773ba4row2_col4\" class=\"data row2 col4\" >0.39</td>\n",
       "                        <td id=\"T_9ee17522_d14e_11ea_be6a_a0b3cc773ba4row2_col5\" class=\"data row2 col5\" >0.68</td>\n",
       "                        <td id=\"T_9ee17522_d14e_11ea_be6a_a0b3cc773ba4row2_col6\" class=\"data row2 col6\" >0.21</td>\n",
       "                        <td id=\"T_9ee17522_d14e_11ea_be6a_a0b3cc773ba4row2_col7\" class=\"data row2 col7\" >0.35</td>\n",
       "                        <td id=\"T_9ee17522_d14e_11ea_be6a_a0b3cc773ba4row2_col8\" class=\"data row2 col8\" >0.30</td>\n",
       "                        <td id=\"T_9ee17522_d14e_11ea_be6a_a0b3cc773ba4row2_col9\" class=\"data row2 col9\" >0.33</td>\n",
       "            </tr>\n",
       "            <tr>\n",
       "                        <th id=\"T_9ee17522_d14e_11ea_be6a_a0b3cc773ba4level0_row3\" class=\"row_heading level0 row3\" >Negative affect</th>\n",
       "                        <td id=\"T_9ee17522_d14e_11ea_be6a_a0b3cc773ba4row3_col0\" class=\"data row3 col0\" >0.52</td>\n",
       "                        <td id=\"T_9ee17522_d14e_11ea_be6a_a0b3cc773ba4row3_col1\" class=\"data row3 col1\" >0.62</td>\n",
       "                        <td id=\"T_9ee17522_d14e_11ea_be6a_a0b3cc773ba4row3_col2\" class=\"data row3 col2\" >0.39</td>\n",
       "                        <td id=\"T_9ee17522_d14e_11ea_be6a_a0b3cc773ba4row3_col3\" class=\"data row3 col3\" >1.00</td>\n",
       "                        <td id=\"T_9ee17522_d14e_11ea_be6a_a0b3cc773ba4row3_col4\" class=\"data row3 col4\" >0.62</td>\n",
       "                        <td id=\"T_9ee17522_d14e_11ea_be6a_a0b3cc773ba4row3_col5\" class=\"data row3 col5\" >0.43</td>\n",
       "                        <td id=\"T_9ee17522_d14e_11ea_be6a_a0b3cc773ba4row3_col6\" class=\"data row3 col6\" >0.16</td>\n",
       "                        <td id=\"T_9ee17522_d14e_11ea_be6a_a0b3cc773ba4row3_col7\" class=\"data row3 col7\" >0.34</td>\n",
       "                        <td id=\"T_9ee17522_d14e_11ea_be6a_a0b3cc773ba4row3_col8\" class=\"data row3 col8\" >0.54</td>\n",
       "                        <td id=\"T_9ee17522_d14e_11ea_be6a_a0b3cc773ba4row3_col9\" class=\"data row3 col9\" >0.49</td>\n",
       "            </tr>\n",
       "            <tr>\n",
       "                        <th id=\"T_9ee17522_d14e_11ea_be6a_a0b3cc773ba4level0_row4\" class=\"row_heading level0 row4\" >Social support</th>\n",
       "                        <td id=\"T_9ee17522_d14e_11ea_be6a_a0b3cc773ba4row4_col0\" class=\"data row4 col0\" >0.82</td>\n",
       "                        <td id=\"T_9ee17522_d14e_11ea_be6a_a0b3cc773ba4row4_col1\" class=\"data row4 col1\" >0.60</td>\n",
       "                        <td id=\"T_9ee17522_d14e_11ea_be6a_a0b3cc773ba4row4_col2\" class=\"data row4 col2\" >0.39</td>\n",
       "                        <td id=\"T_9ee17522_d14e_11ea_be6a_a0b3cc773ba4row4_col3\" class=\"data row4 col3\" >0.62</td>\n",
       "                        <td id=\"T_9ee17522_d14e_11ea_be6a_a0b3cc773ba4row4_col4\" class=\"data row4 col4\" >1.00</td>\n",
       "                        <td id=\"T_9ee17522_d14e_11ea_be6a_a0b3cc773ba4row4_col5\" class=\"data row4 col5\" >0.45</td>\n",
       "                        <td id=\"T_9ee17522_d14e_11ea_be6a_a0b3cc773ba4row4_col6\" class=\"data row4 col6\" >0.12</td>\n",
       "                        <td id=\"T_9ee17522_d14e_11ea_be6a_a0b3cc773ba4row4_col7\" class=\"data row4 col7\" >0.44</td>\n",
       "                        <td id=\"T_9ee17522_d14e_11ea_be6a_a0b3cc773ba4row4_col8\" class=\"data row4 col8\" >0.77</td>\n",
       "                        <td id=\"T_9ee17522_d14e_11ea_be6a_a0b3cc773ba4row4_col9\" class=\"data row4 col9\" >0.74</td>\n",
       "            </tr>\n",
       "            <tr>\n",
       "                        <th id=\"T_9ee17522_d14e_11ea_be6a_a0b3cc773ba4level0_row5\" class=\"row_heading level0 row5\" >Freedom</th>\n",
       "                        <td id=\"T_9ee17522_d14e_11ea_be6a_a0b3cc773ba4row5_col0\" class=\"data row5 col0\" >0.55</td>\n",
       "                        <td id=\"T_9ee17522_d14e_11ea_be6a_a0b3cc773ba4row5_col1\" class=\"data row5 col1\" >0.25</td>\n",
       "                        <td id=\"T_9ee17522_d14e_11ea_be6a_a0b3cc773ba4row5_col2\" class=\"data row5 col2\" >0.68</td>\n",
       "                        <td id=\"T_9ee17522_d14e_11ea_be6a_a0b3cc773ba4row5_col3\" class=\"data row5 col3\" >0.43</td>\n",
       "                        <td id=\"T_9ee17522_d14e_11ea_be6a_a0b3cc773ba4row5_col4\" class=\"data row5 col4\" >0.45</td>\n",
       "                        <td id=\"T_9ee17522_d14e_11ea_be6a_a0b3cc773ba4row5_col5\" class=\"data row5 col5\" >1.00</td>\n",
       "                        <td id=\"T_9ee17522_d14e_11ea_be6a_a0b3cc773ba4row5_col6\" class=\"data row5 col6\" >0.38</td>\n",
       "                        <td id=\"T_9ee17522_d14e_11ea_be6a_a0b3cc773ba4row5_col7\" class=\"data row5 col7\" >0.49</td>\n",
       "                        <td id=\"T_9ee17522_d14e_11ea_be6a_a0b3cc773ba4row5_col8\" class=\"data row5 col8\" >0.41</td>\n",
       "                        <td id=\"T_9ee17522_d14e_11ea_be6a_a0b3cc773ba4row5_col9\" class=\"data row5 col9\" >0.42</td>\n",
       "            </tr>\n",
       "            <tr>\n",
       "                        <th id=\"T_9ee17522_d14e_11ea_be6a_a0b3cc773ba4level0_row6\" class=\"row_heading level0 row6\" >Corruption</th>\n",
       "                        <td id=\"T_9ee17522_d14e_11ea_be6a_a0b3cc773ba4row6_col0\" class=\"data row6 col0\" >0.19</td>\n",
       "                        <td id=\"T_9ee17522_d14e_11ea_be6a_a0b3cc773ba4row6_col1\" class=\"data row6 col1\" >0.26</td>\n",
       "                        <td id=\"T_9ee17522_d14e_11ea_be6a_a0b3cc773ba4row6_col2\" class=\"data row6 col2\" >0.21</td>\n",
       "                        <td id=\"T_9ee17522_d14e_11ea_be6a_a0b3cc773ba4row6_col3\" class=\"data row6 col3\" >0.16</td>\n",
       "                        <td id=\"T_9ee17522_d14e_11ea_be6a_a0b3cc773ba4row6_col4\" class=\"data row6 col4\" >0.12</td>\n",
       "                        <td id=\"T_9ee17522_d14e_11ea_be6a_a0b3cc773ba4row6_col5\" class=\"data row6 col5\" >0.38</td>\n",
       "                        <td id=\"T_9ee17522_d14e_11ea_be6a_a0b3cc773ba4row6_col6\" class=\"data row6 col6\" >1.00</td>\n",
       "                        <td id=\"T_9ee17522_d14e_11ea_be6a_a0b3cc773ba4row6_col7\" class=\"data row6 col7\" >0.27</td>\n",
       "                        <td id=\"T_9ee17522_d14e_11ea_be6a_a0b3cc773ba4row6_col8\" class=\"data row6 col8\" >0.20</td>\n",
       "                        <td id=\"T_9ee17522_d14e_11ea_be6a_a0b3cc773ba4row6_col9\" class=\"data row6 col9\" >0.12</td>\n",
       "            </tr>\n",
       "            <tr>\n",
       "                        <th id=\"T_9ee17522_d14e_11ea_be6a_a0b3cc773ba4level0_row7\" class=\"row_heading level0 row7\" >Generosity</th>\n",
       "                        <td id=\"T_9ee17522_d14e_11ea_be6a_a0b3cc773ba4row7_col0\" class=\"data row7 col0\" >0.50</td>\n",
       "                        <td id=\"T_9ee17522_d14e_11ea_be6a_a0b3cc773ba4row7_col1\" class=\"data row7 col1\" >0.39</td>\n",
       "                        <td id=\"T_9ee17522_d14e_11ea_be6a_a0b3cc773ba4row7_col2\" class=\"data row7 col2\" >0.35</td>\n",
       "                        <td id=\"T_9ee17522_d14e_11ea_be6a_a0b3cc773ba4row7_col3\" class=\"data row7 col3\" >0.34</td>\n",
       "                        <td id=\"T_9ee17522_d14e_11ea_be6a_a0b3cc773ba4row7_col4\" class=\"data row7 col4\" >0.44</td>\n",
       "                        <td id=\"T_9ee17522_d14e_11ea_be6a_a0b3cc773ba4row7_col5\" class=\"data row7 col5\" >0.49</td>\n",
       "                        <td id=\"T_9ee17522_d14e_11ea_be6a_a0b3cc773ba4row7_col6\" class=\"data row7 col6\" >0.27</td>\n",
       "                        <td id=\"T_9ee17522_d14e_11ea_be6a_a0b3cc773ba4row7_col7\" class=\"data row7 col7\" >1.00</td>\n",
       "                        <td id=\"T_9ee17522_d14e_11ea_be6a_a0b3cc773ba4row7_col8\" class=\"data row7 col8\" >0.48</td>\n",
       "                        <td id=\"T_9ee17522_d14e_11ea_be6a_a0b3cc773ba4row7_col9\" class=\"data row7 col9\" >0.43</td>\n",
       "            </tr>\n",
       "            <tr>\n",
       "                        <th id=\"T_9ee17522_d14e_11ea_be6a_a0b3cc773ba4level0_row8\" class=\"row_heading level0 row8\" >Log of GDP\n",
       "per capita</th>\n",
       "                        <td id=\"T_9ee17522_d14e_11ea_be6a_a0b3cc773ba4row8_col0\" class=\"data row8 col0\" >0.81</td>\n",
       "                        <td id=\"T_9ee17522_d14e_11ea_be6a_a0b3cc773ba4row8_col1\" class=\"data row8 col1\" >0.63</td>\n",
       "                        <td id=\"T_9ee17522_d14e_11ea_be6a_a0b3cc773ba4row8_col2\" class=\"data row8 col2\" >0.30</td>\n",
       "                        <td id=\"T_9ee17522_d14e_11ea_be6a_a0b3cc773ba4row8_col3\" class=\"data row8 col3\" >0.54</td>\n",
       "                        <td id=\"T_9ee17522_d14e_11ea_be6a_a0b3cc773ba4row8_col4\" class=\"data row8 col4\" >0.77</td>\n",
       "                        <td id=\"T_9ee17522_d14e_11ea_be6a_a0b3cc773ba4row8_col5\" class=\"data row8 col5\" >0.41</td>\n",
       "                        <td id=\"T_9ee17522_d14e_11ea_be6a_a0b3cc773ba4row8_col6\" class=\"data row8 col6\" >0.20</td>\n",
       "                        <td id=\"T_9ee17522_d14e_11ea_be6a_a0b3cc773ba4row8_col7\" class=\"data row8 col7\" >0.48</td>\n",
       "                        <td id=\"T_9ee17522_d14e_11ea_be6a_a0b3cc773ba4row8_col8\" class=\"data row8 col8\" >1.00</td>\n",
       "                        <td id=\"T_9ee17522_d14e_11ea_be6a_a0b3cc773ba4row8_col9\" class=\"data row8 col9\" >0.85</td>\n",
       "            </tr>\n",
       "            <tr>\n",
       "                        <th id=\"T_9ee17522_d14e_11ea_be6a_a0b3cc773ba4level0_row9\" class=\"row_heading level0 row9\" >Healthy life\n",
       "expectancy</th>\n",
       "                        <td id=\"T_9ee17522_d14e_11ea_be6a_a0b3cc773ba4row9_col0\" class=\"data row9 col0\" >0.82</td>\n",
       "                        <td id=\"T_9ee17522_d14e_11ea_be6a_a0b3cc773ba4row9_col1\" class=\"data row9 col1\" >0.61</td>\n",
       "                        <td id=\"T_9ee17522_d14e_11ea_be6a_a0b3cc773ba4row9_col2\" class=\"data row9 col2\" >0.33</td>\n",
       "                        <td id=\"T_9ee17522_d14e_11ea_be6a_a0b3cc773ba4row9_col3\" class=\"data row9 col3\" >0.49</td>\n",
       "                        <td id=\"T_9ee17522_d14e_11ea_be6a_a0b3cc773ba4row9_col4\" class=\"data row9 col4\" >0.74</td>\n",
       "                        <td id=\"T_9ee17522_d14e_11ea_be6a_a0b3cc773ba4row9_col5\" class=\"data row9 col5\" >0.42</td>\n",
       "                        <td id=\"T_9ee17522_d14e_11ea_be6a_a0b3cc773ba4row9_col6\" class=\"data row9 col6\" >0.12</td>\n",
       "                        <td id=\"T_9ee17522_d14e_11ea_be6a_a0b3cc773ba4row9_col7\" class=\"data row9 col7\" >0.43</td>\n",
       "                        <td id=\"T_9ee17522_d14e_11ea_be6a_a0b3cc773ba4row9_col8\" class=\"data row9 col8\" >0.85</td>\n",
       "                        <td id=\"T_9ee17522_d14e_11ea_be6a_a0b3cc773ba4row9_col9\" class=\"data row9 col9\" >1.00</td>\n",
       "            </tr>\n",
       "    </tbody></table>"
      ],
      "text/plain": [
       "<pandas.io.formats.style.Styler at 0x1a79757948>"
      ]
     },
     "execution_count": 76,
     "metadata": {},
     "output_type": "execute_result"
    }
   ],
   "source": [
    "dat.corr().style.background_gradient(cmap='coolwarm').set_precision(2)"
   ]
  },
  {
   "cell_type": "markdown",
   "metadata": {},
   "source": [
    " Наибольшее влияние на удовлетверенность жизнью оказывают два фактора: валовый внутренний продукт и социальная поддержка."
   ]
  },
  {
   "cell_type": "markdown",
   "metadata": {
    "colab_type": "text",
    "id": "bwPmjFqesXOC"
   },
   "source": [
    "# Дискретное распределение случайной величины"
   ]
  },
  {
   "cell_type": "markdown",
   "metadata": {
    "colab_type": "text",
    "id": "5xwVwFr_s11_"
   },
   "source": [
    "Напишите код для моделирования 10 подбрасываний игрального кубика. Начертите диаграму histogram. Какое это распределение? \n",
    "\n",
    "**Ответ:** распределение равномерное"
   ]
  },
  {
   "cell_type": "code",
   "execution_count": 79,
   "metadata": {
    "colab": {},
    "colab_type": "code",
    "id": "3EEu6ofKs0x7"
   },
   "outputs": [
    {
     "name": "stdout",
     "output_type": "stream",
     "text": [
      "Trials = 10 times.\n",
      "Mean = 3.2\n",
      "Standard deviation = 1.7204650534085253\n"
     ]
    },
    {
     "data": {
      "image/png": "[encoded data removed]",
      "text/plain": [
       "<Figure size 432x288 with 1 Axes>"
      ]
     },
     "metadata": {
      "needs_background": "light"
     },
     "output_type": "display_data"
    }
   ],
   "source": [
    "import pylab\n",
    "import random\n",
    "\n",
    "number_of_trials =10\n",
    "## Here we simulate the repeated throwing of a single six-sided die\n",
    "list_of_values = []\n",
    "for i in range(number_of_trials):\n",
    "    list_of_values.append(random.randint( 1,6))\n",
    "\n",
    "print(\"Trials =\", number_of_trials, \"times.\")\n",
    "print(\"Mean =\", pylab.mean(list_of_values))\n",
    "print(\"Standard deviation =\", pylab.std(list_of_values))\n",
    "\n",
    "pylab.hist(list_of_values, bins=[0.5,1.5,2.5,3.5,4.5,5.5,6.5])\n",
    "pylab.xlabel('Value')\n",
    "pylab.ylabel('Number of times')\n",
    "pylab.show()"
   ]
  },
  {
   "cell_type": "markdown",
   "metadata": {
    "colab_type": "text",
    "id": "irGnJ9bxtAor"
   },
   "source": [
    "Смоделируйте 1000 раз сумму по 100 подбрасываний. Начертите диаграму histogram. Почему график изменился? Почему можно применить центральную предельную теорему? **Ответ:**  На гистограмме изображена сумма выпавших на кубиках чисел, 1000 серий по 100 испытаний в каждой серии, поскольку выпавшая грань кубика равномерная случайная величина, то при лостаточно большои количестве испытаний свойство равномерности проявляется сильнее и сумма гранней будет стремиться к одному и тому же числу!"
   ]
  },
  {
   "cell_type": "code",
   "execution_count": 89,
   "metadata": {
    "colab": {},
    "colab_type": "code",
    "id": "v0It8sBStGcI"
   },
   "outputs": [
    {
     "name": "stdout",
     "output_type": "stream",
     "text": [
      "Mean = 350.089\n",
      "Standard deviation = 16.62681806600409\n"
     ]
    },
    {
     "data": {
      "image/png": "[encoded data removed]",
      "text/plain": [
       "<Figure size 432x288 with 1 Axes>"
      ]
     },
     "metadata": {
      "needs_background": "light"
     },
     "output_type": "display_data"
    }
   ],
   "source": [
    "number_of_trials = 100\n",
    "number_of_series = 1000\n",
    "## Here we simulate the repeated throwing of a single six-sided die\n",
    "list_of_sum_values = []\n",
    "for j in range(number_of_series):\n",
    "    S = 0\n",
    "    for i in range(number_of_trials):\n",
    "        S += random.randint( 1,6)\n",
    "    list_of_sum_values.append(S)\n",
    "\n",
    "print(\"Mean =\", pylab.mean(list_of_sum_values))\n",
    "print(\"Standard deviation =\", pylab.std(list_of_sum_values))\n",
    "\n",
    "pylab.hist(list_of_sum_values)\n",
    "pylab.xlabel('Value')\n",
    "pylab.ylabel('Number of times')\n",
    "pylab.show()"
   ]
  },
  {
   "cell_type": "code",
   "execution_count": null,
   "metadata": {},
   "outputs": [],
   "source": []
  }
 ],
 "metadata": {
  "colab": {
   "include_colab_link": true,
   "name": "dz_2.ipynb",
   "provenance": []
  },
  "kernelspec": {
   "display_name": "Python 3",
   "language": "python",
   "name": "python3"
  },
  "language_info": {
   "codemirror_mode": {
    "name": "ipython",
    "version": 3
   },
   "file_extension": ".py",
   "mimetype": "text/x-python",
   "name": "python",
   "nbconvert_exporter": "python",
   "pygments_lexer": "ipython3",
   "version": "3.7.6"
  }
 },
 "nbformat": 4,
 "nbformat_minor": 1
}
